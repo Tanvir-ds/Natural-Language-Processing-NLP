{
 "cells": [
  {
   "cell_type": "code",
   "execution_count": 1,
   "id": "98bab50f",
   "metadata": {},
   "outputs": [
    {
     "data": {
      "text/plain": [
       "{'austin': 0, 'jose': 3, 'looking': 4, 'for': 1, 'job': 2}"
      ]
     },
     "execution_count": 1,
     "metadata": {},
     "output_type": "execute_result"
    }
   ],
   "source": [
    "# ngram_range = (1,1)\n",
    "from sklearn.feature_extraction.text import CountVectorizer\n",
    "cv = CountVectorizer()\n",
    "\n",
    "cv.fit([\"Austin Jose looking for a job.\"])\n",
    "cv.vocabulary_"
   ]
  },
  {
   "cell_type": "code",
   "execution_count": 2,
   "id": "0352f7f6",
   "metadata": {},
   "outputs": [
    {
     "data": {
      "text/plain": [
       "{'austin jose': 0, 'jose looking': 2, 'looking for': 3, 'for job': 1}"
      ]
     },
     "execution_count": 2,
     "metadata": {},
     "output_type": "execute_result"
    }
   ],
   "source": [
    "# ngram_range = (2,2)\n",
    "from sklearn.feature_extraction.text import CountVectorizer\n",
    "cv = CountVectorizer(ngram_range=(2,2))\n",
    "\n",
    "cv.fit([\"Austin Jose looking for a job.\"])\n",
    "cv.vocabulary_"
   ]
  },
  {
   "cell_type": "code",
   "execution_count": 3,
   "id": "1c7c4d56",
   "metadata": {},
   "outputs": [
    {
     "data": {
      "text/plain": [
       "{'austin': 0,\n",
       " 'jose': 6,\n",
       " 'looking': 9,\n",
       " 'for': 3,\n",
       " 'job': 5,\n",
       " 'austin jose': 1,\n",
       " 'jose looking': 7,\n",
       " 'looking for': 10,\n",
       " 'for job': 4,\n",
       " 'austin jose looking': 2,\n",
       " 'jose looking for': 8,\n",
       " 'looking for job': 11}"
      ]
     },
     "execution_count": 3,
     "metadata": {},
     "output_type": "execute_result"
    }
   ],
   "source": [
    "# ngram_range = (1,3)\n",
    "from sklearn.feature_extraction.text import CountVectorizer\n",
    "cv = CountVectorizer(ngram_range=(1,3))\n",
    "\n",
    "cv.fit([\"Austin Jose looking for a job.\"])\n",
    "cv.vocabulary_"
   ]
  },
  {
   "cell_type": "code",
   "execution_count": 4,
   "id": "883a1dea",
   "metadata": {},
   "outputs": [],
   "source": [
    "corpus = [\n",
    "    \"Sam ate pizza.\",\n",
    "    \"Thomas brought 2$ pizza in Dhaka.\",\n",
    "    \"Sam is eating pizza.\"\n",
    "]"
   ]
  },
  {
   "cell_type": "code",
   "execution_count": 5,
   "id": "98bfebcd",
   "metadata": {},
   "outputs": [],
   "source": [
    "import spacy\n",
    "# load english language model and create nlp object for it\n",
    "nlp = spacy.load(\"en_core_web_sm\")\n",
    "\n",
    "# Create function that will removing stop words,puntuations and returning lemmatizing word\n",
    "def processing(text):\n",
    "    doc = nlp(text)\n",
    "    \n",
    "    filtered_text = []\n",
    "    for token in doc:\n",
    "        if token.is_stop or token.is_punct:\n",
    "            continue\n",
    "            \n",
    "        filtered_text.append(token.lemma_)\n",
    "    return \" \".join(filtered_text)"
   ]
  },
  {
   "cell_type": "code",
   "execution_count": 6,
   "id": "1a8fa0d9",
   "metadata": {},
   "outputs": [
    {
     "data": {
      "text/plain": [
       "'Thomas bring 2 $ pizza Dhaka'"
      ]
     },
     "execution_count": 6,
     "metadata": {},
     "output_type": "execute_result"
    }
   ],
   "source": [
    "processing(\"Thomas brought 2$ pizza in Dhaka.\")"
   ]
  },
  {
   "cell_type": "code",
   "execution_count": 7,
   "id": "074404f6",
   "metadata": {},
   "outputs": [
    {
     "data": {
      "text/plain": [
       "['Sam eat pizza', 'Thomas bring 2 $ pizza Dhaka', 'Sam eat pizza']"
      ]
     },
     "execution_count": 7,
     "metadata": {},
     "output_type": "execute_result"
    }
   ],
   "source": [
    "corpus_preocessed = [processing(token) for token in corpus]\n",
    "corpus_preocessed"
   ]
  },
  {
   "cell_type": "markdown",
   "id": "ef1a051a",
   "metadata": {},
   "source": [
    "# New Category Classifier"
   ]
  },
  {
   "cell_type": "code",
   "execution_count": 8,
   "id": "fa4e3a80",
   "metadata": {},
   "outputs": [],
   "source": [
    "# Importing libraries\n",
    "import numpy as np\n",
    "import pandas as pd\n",
    "import matplotlib.pyplot as plt\n",
    "import seaborn as sns"
   ]
  },
  {
   "cell_type": "code",
   "execution_count": 9,
   "id": "bf995a51",
   "metadata": {},
   "outputs": [
    {
     "data": {
      "text/html": [
       "<div>\n",
       "<style scoped>\n",
       "    .dataframe tbody tr th:only-of-type {\n",
       "        vertical-align: middle;\n",
       "    }\n",
       "\n",
       "    .dataframe tbody tr th {\n",
       "        vertical-align: top;\n",
       "    }\n",
       "\n",
       "    .dataframe thead th {\n",
       "        text-align: right;\n",
       "    }\n",
       "</style>\n",
       "<table border=\"1\" class=\"dataframe\">\n",
       "  <thead>\n",
       "    <tr style=\"text-align: right;\">\n",
       "      <th></th>\n",
       "      <th>category</th>\n",
       "      <th>title</th>\n",
       "      <th>body</th>\n",
       "    </tr>\n",
       "  </thead>\n",
       "  <tbody>\n",
       "    <tr>\n",
       "      <th>0</th>\n",
       "      <td>ARTS &amp; CULTURE</td>\n",
       "      <td>Modeling Agencies Enabled Sexual Predators For...</td>\n",
       "      <td>In October 2017, Carolyn Kramer received a dis...</td>\n",
       "    </tr>\n",
       "    <tr>\n",
       "      <th>1</th>\n",
       "      <td>ARTS &amp; CULTURE</td>\n",
       "      <td>Actor Jeff Hiller Talks “Bright Colors And Bol...</td>\n",
       "      <td>This week I talked with actor Jeff Hiller abou...</td>\n",
       "    </tr>\n",
       "    <tr>\n",
       "      <th>2</th>\n",
       "      <td>ARTS &amp; CULTURE</td>\n",
       "      <td>New Yorker Cover Puts Trump 'In The Hole' Afte...</td>\n",
       "      <td>The New Yorker is taking on President Donald T...</td>\n",
       "    </tr>\n",
       "    <tr>\n",
       "      <th>3</th>\n",
       "      <td>ARTS &amp; CULTURE</td>\n",
       "      <td>Man Surprises Girlfriend By Drawing Them In Di...</td>\n",
       "      <td>Kellen Hickey, a 26-year-old who lives in Huds...</td>\n",
       "    </tr>\n",
       "    <tr>\n",
       "      <th>4</th>\n",
       "      <td>ARTS &amp; CULTURE</td>\n",
       "      <td>This Artist Gives Renaissance-Style Sculptures...</td>\n",
       "      <td>There’s something about combining the traditio...</td>\n",
       "    </tr>\n",
       "    <tr>\n",
       "      <th>...</th>\n",
       "      <td>...</td>\n",
       "      <td>...</td>\n",
       "      <td>...</td>\n",
       "    </tr>\n",
       "    <tr>\n",
       "      <th>6872</th>\n",
       "      <td>WOMEN</td>\n",
       "      <td>Casually Fearless: Why Millennials Are Natural...</td>\n",
       "      <td>I still think about that Tuesday night dinner ...</td>\n",
       "    </tr>\n",
       "    <tr>\n",
       "      <th>6873</th>\n",
       "      <td>WOMEN</td>\n",
       "      <td>Happy Birthday To Us</td>\n",
       "      <td>I remember the morning of my high school gradu...</td>\n",
       "    </tr>\n",
       "    <tr>\n",
       "      <th>6874</th>\n",
       "      <td>WOMEN</td>\n",
       "      <td>The Culture of Love</td>\n",
       "      <td>My husband, Gene, doesn't wear pajamas. I aske...</td>\n",
       "    </tr>\n",
       "    <tr>\n",
       "      <th>6875</th>\n",
       "      <td>WOMEN</td>\n",
       "      <td>Carpe Diem, Oprah Style</td>\n",
       "      <td>\\nBy AntonioGuillem, via ThinkStock\\nBy  Lisa ...</td>\n",
       "    </tr>\n",
       "    <tr>\n",
       "      <th>6876</th>\n",
       "      <td>WOMEN</td>\n",
       "      <td>My Month of Online Dating Detox</td>\n",
       "      <td>My name is Jamie and I'm an online date-aholic...</td>\n",
       "    </tr>\n",
       "  </tbody>\n",
       "</table>\n",
       "<p>6877 rows × 3 columns</p>\n",
       "</div>"
      ],
      "text/plain": [
       "            category                                              title  \\\n",
       "0     ARTS & CULTURE  Modeling Agencies Enabled Sexual Predators For...   \n",
       "1     ARTS & CULTURE  Actor Jeff Hiller Talks “Bright Colors And Bol...   \n",
       "2     ARTS & CULTURE  New Yorker Cover Puts Trump 'In The Hole' Afte...   \n",
       "3     ARTS & CULTURE  Man Surprises Girlfriend By Drawing Them In Di...   \n",
       "4     ARTS & CULTURE  This Artist Gives Renaissance-Style Sculptures...   \n",
       "...              ...                                                ...   \n",
       "6872           WOMEN  Casually Fearless: Why Millennials Are Natural...   \n",
       "6873           WOMEN                               Happy Birthday To Us   \n",
       "6874           WOMEN                                The Culture of Love   \n",
       "6875           WOMEN                            Carpe Diem, Oprah Style   \n",
       "6876           WOMEN                    My Month of Online Dating Detox   \n",
       "\n",
       "                                                   body  \n",
       "0     In October 2017, Carolyn Kramer received a dis...  \n",
       "1     This week I talked with actor Jeff Hiller abou...  \n",
       "2     The New Yorker is taking on President Donald T...  \n",
       "3     Kellen Hickey, a 26-year-old who lives in Huds...  \n",
       "4     There’s something about combining the traditio...  \n",
       "...                                                 ...  \n",
       "6872  I still think about that Tuesday night dinner ...  \n",
       "6873  I remember the morning of my high school gradu...  \n",
       "6874  My husband, Gene, doesn't wear pajamas. I aske...  \n",
       "6875  \\nBy AntonioGuillem, via ThinkStock\\nBy  Lisa ...  \n",
       "6876  My name is Jamie and I'm an online date-aholic...  \n",
       "\n",
       "[6877 rows x 3 columns]"
      ]
     },
     "execution_count": 9,
     "metadata": {},
     "output_type": "execute_result"
    }
   ],
   "source": [
    "# Load the dataset\n",
    "df = pd.read_csv(\"news_category_classifier.csv\")\n",
    "df"
   ]
  },
  {
   "cell_type": "code",
   "execution_count": 10,
   "id": "81653c2c",
   "metadata": {
    "scrolled": true
   },
   "outputs": [
    {
     "data": {
      "text/plain": [
       "ARTS & CULTURE    1002\n",
       "BUSINESS           501\n",
       "ENTERTAINMENT      501\n",
       "ENVIRONMENT        501\n",
       "POLITICS           501\n",
       "RELIGION           501\n",
       "SPORTS             501\n",
       "TECH               501\n",
       "WOMEN              501\n",
       "EDUCATION          490\n",
       "COMEDY             380\n",
       "SCIENCE            350\n",
       "MEDIA              347\n",
       "CRIME              300\n",
       "Name: category, dtype: int64"
      ]
     },
     "execution_count": 10,
     "metadata": {},
     "output_type": "execute_result"
    }
   ],
   "source": [
    "df[\"category\"].value_counts()"
   ]
  },
  {
   "cell_type": "markdown",
   "id": "17ccc898",
   "metadata": {},
   "source": [
    "# To keep it simple, we just use \"CRIME\", \"SCIENCE\", \"COMEDY\", \"SPORTS\", \"POLITICS\" and \"BUSINESS\" category and removing \"title\" from from dataset"
   ]
  },
  {
   "cell_type": "code",
   "execution_count": 11,
   "id": "7659e364",
   "metadata": {},
   "outputs": [],
   "source": [
    "df_crime = df[df[\"category\"]==\"CRIME\"]\n",
    "df_science = df[df[\"category\"]==\"SCIENCE\"]\n",
    "df_comedy = df[df[\"category\"]==\"COMEDY\"]\n",
    "df_sports = df[df[\"category\"]==\"SPORTS\"]\n",
    "df_politics = df[df[\"category\"]==\"POLITICS\"]\n",
    "df_business = df[df[\"category\"]==\"BUSINESS\"]"
   ]
  },
  {
   "cell_type": "code",
   "execution_count": 12,
   "id": "c70fa1bf",
   "metadata": {},
   "outputs": [
    {
     "data": {
      "text/html": [
       "<div>\n",
       "<style scoped>\n",
       "    .dataframe tbody tr th:only-of-type {\n",
       "        vertical-align: middle;\n",
       "    }\n",
       "\n",
       "    .dataframe tbody tr th {\n",
       "        vertical-align: top;\n",
       "    }\n",
       "\n",
       "    .dataframe thead th {\n",
       "        text-align: right;\n",
       "    }\n",
       "</style>\n",
       "<table border=\"1\" class=\"dataframe\">\n",
       "  <thead>\n",
       "    <tr style=\"text-align: right;\">\n",
       "      <th></th>\n",
       "      <th>category</th>\n",
       "      <th>title</th>\n",
       "      <th>body</th>\n",
       "    </tr>\n",
       "  </thead>\n",
       "  <tbody>\n",
       "    <tr>\n",
       "      <th>1883</th>\n",
       "      <td>CRIME</td>\n",
       "      <td>There Were 2 Mass Shootings In Texas Last Week...</td>\n",
       "      <td>DENTON, Texas ― Amanda Painter sat at the kitc...</td>\n",
       "    </tr>\n",
       "    <tr>\n",
       "      <th>1884</th>\n",
       "      <td>CRIME</td>\n",
       "      <td>Rachel Dolezal Faces Felony Charges For Welfar...</td>\n",
       "      <td>Rachel Dolezal, the former president of NAACP’...</td>\n",
       "    </tr>\n",
       "    <tr>\n",
       "      <th>1885</th>\n",
       "      <td>CRIME</td>\n",
       "      <td>Man Faces Charges After Pulling Knife, Stun Gu...</td>\n",
       "      <td>A man is facing criminal charges after threate...</td>\n",
       "    </tr>\n",
       "    <tr>\n",
       "      <th>1886</th>\n",
       "      <td>CRIME</td>\n",
       "      <td>2 People Injured In Indiana School Shooting</td>\n",
       "      <td>At least two people have been injured in a sch...</td>\n",
       "    </tr>\n",
       "    <tr>\n",
       "      <th>1887</th>\n",
       "      <td>CRIME</td>\n",
       "      <td>Maryland Police Charge 3 Church Leaders With P...</td>\n",
       "      <td>Police in Maryland have charged three church l...</td>\n",
       "    </tr>\n",
       "    <tr>\n",
       "      <th>...</th>\n",
       "      <td>...</td>\n",
       "      <td>...</td>\n",
       "      <td>...</td>\n",
       "    </tr>\n",
       "    <tr>\n",
       "      <th>1498</th>\n",
       "      <td>BUSINESS</td>\n",
       "      <td>The Store As A Showroom: Having Your Cake And ...</td>\n",
       "      <td>In 2005, I was shopping for an acoustic piano....</td>\n",
       "    </tr>\n",
       "    <tr>\n",
       "      <th>1499</th>\n",
       "      <td>BUSINESS</td>\n",
       "      <td>Walmart Ditches 'Bulletproof: Black Lives Matt...</td>\n",
       "      <td>Walmart is dropping the online sale of T-shirt...</td>\n",
       "    </tr>\n",
       "    <tr>\n",
       "      <th>1500</th>\n",
       "      <td>BUSINESS</td>\n",
       "      <td>American Cities Losing The Most Jobs This Year</td>\n",
       "      <td>The U.S. economy added roughly 2.4 million w...</td>\n",
       "    </tr>\n",
       "    <tr>\n",
       "      <th>1501</th>\n",
       "      <td>BUSINESS</td>\n",
       "      <td>American Cities Adding The Most Jobs This Year</td>\n",
       "      <td>The U.S. economy added nearly 2.5 million empl...</td>\n",
       "    </tr>\n",
       "    <tr>\n",
       "      <th>1502</th>\n",
       "      <td>BUSINESS</td>\n",
       "      <td>Everything You Ever Wanted To Know About Holid...</td>\n",
       "      <td>Forget the season of giving -- it's the season...</td>\n",
       "    </tr>\n",
       "  </tbody>\n",
       "</table>\n",
       "<p>2533 rows × 3 columns</p>\n",
       "</div>"
      ],
      "text/plain": [
       "      category                                              title  \\\n",
       "1883     CRIME  There Were 2 Mass Shootings In Texas Last Week...   \n",
       "1884     CRIME  Rachel Dolezal Faces Felony Charges For Welfar...   \n",
       "1885     CRIME  Man Faces Charges After Pulling Knife, Stun Gu...   \n",
       "1886     CRIME        2 People Injured In Indiana School Shooting   \n",
       "1887     CRIME  Maryland Police Charge 3 Church Leaders With P...   \n",
       "...        ...                                                ...   \n",
       "1498  BUSINESS  The Store As A Showroom: Having Your Cake And ...   \n",
       "1499  BUSINESS  Walmart Ditches 'Bulletproof: Black Lives Matt...   \n",
       "1500  BUSINESS     American Cities Losing The Most Jobs This Year   \n",
       "1501  BUSINESS     American Cities Adding The Most Jobs This Year   \n",
       "1502  BUSINESS  Everything You Ever Wanted To Know About Holid...   \n",
       "\n",
       "                                                   body  \n",
       "1883  DENTON, Texas ― Amanda Painter sat at the kitc...  \n",
       "1884  Rachel Dolezal, the former president of NAACP’...  \n",
       "1885  A man is facing criminal charges after threate...  \n",
       "1886  At least two people have been injured in a sch...  \n",
       "1887  Police in Maryland have charged three church l...  \n",
       "...                                                 ...  \n",
       "1498  In 2005, I was shopping for an acoustic piano....  \n",
       "1499  Walmart is dropping the online sale of T-shirt...  \n",
       "1500    The U.S. economy added roughly 2.4 million w...  \n",
       "1501  The U.S. economy added nearly 2.5 million empl...  \n",
       "1502  Forget the season of giving -- it's the season...  \n",
       "\n",
       "[2533 rows x 3 columns]"
      ]
     },
     "execution_count": 12,
     "metadata": {},
     "output_type": "execute_result"
    }
   ],
   "source": [
    "# Concatenate them\n",
    "new_df = pd.concat([df_crime, df_science, df_comedy, df_sports, df_politics, df_business], axis=0)\n",
    "new_df"
   ]
  },
  {
   "cell_type": "code",
   "execution_count": 13,
   "id": "b9aa1d3b",
   "metadata": {},
   "outputs": [
    {
     "data": {
      "text/plain": [
       "SPORTS      501\n",
       "POLITICS    501\n",
       "BUSINESS    501\n",
       "COMEDY      380\n",
       "SCIENCE     350\n",
       "CRIME       300\n",
       "Name: category, dtype: int64"
      ]
     },
     "execution_count": 13,
     "metadata": {},
     "output_type": "execute_result"
    }
   ],
   "source": [
    "new_df[\"category\"].value_counts()"
   ]
  },
  {
   "cell_type": "code",
   "execution_count": 14,
   "id": "c1b6245c",
   "metadata": {},
   "outputs": [],
   "source": [
    "# Handling Imbalanced dataset\n",
    "min_samples = 300\n",
    "balanced_crime = new_df[new_df[\"category\"]==\"CRIME\"].sample(min_samples, random_state=2023)\n",
    "balanced_science = new_df[new_df[\"category\"]==\"SCIENCE\"].sample(min_samples, random_state=2023)\n",
    "balanced_comedy = new_df[new_df[\"category\"]==\"COMEDY\"].sample(min_samples, random_state=2023)\n",
    "balanced_sports = new_df[new_df[\"category\"]==\"SPORTS\"].sample(min_samples, random_state=2023)\n",
    "balanced_politics = new_df[new_df[\"category\"]==\"POLITICS\"].sample(min_samples, random_state=2023)\n",
    "balanced_business = new_df[new_df[\"category\"]==\"BUSINESS\"].sample(min_samples, random_state=2023)"
   ]
  },
  {
   "cell_type": "code",
   "execution_count": 15,
   "id": "e577a4b3",
   "metadata": {},
   "outputs": [
    {
     "data": {
      "text/html": [
       "<div>\n",
       "<style scoped>\n",
       "    .dataframe tbody tr th:only-of-type {\n",
       "        vertical-align: middle;\n",
       "    }\n",
       "\n",
       "    .dataframe tbody tr th {\n",
       "        vertical-align: top;\n",
       "    }\n",
       "\n",
       "    .dataframe thead th {\n",
       "        text-align: right;\n",
       "    }\n",
       "</style>\n",
       "<table border=\"1\" class=\"dataframe\">\n",
       "  <thead>\n",
       "    <tr style=\"text-align: right;\">\n",
       "      <th></th>\n",
       "      <th>category</th>\n",
       "      <th>title</th>\n",
       "      <th>body</th>\n",
       "    </tr>\n",
       "  </thead>\n",
       "  <tbody>\n",
       "    <tr>\n",
       "      <th>2006</th>\n",
       "      <td>CRIME</td>\n",
       "      <td>Parkland Shooter's Rifle Magazines Were Etched...</td>\n",
       "      <td>Officials say they found swastikas etched into...</td>\n",
       "    </tr>\n",
       "    <tr>\n",
       "      <th>1907</th>\n",
       "      <td>CRIME</td>\n",
       "      <td>Man Who Killed Indian Immigrant Sentenced To L...</td>\n",
       "      <td>A Kansas man who shot three people in a bar, k...</td>\n",
       "    </tr>\n",
       "    <tr>\n",
       "      <th>2143</th>\n",
       "      <td>CRIME</td>\n",
       "      <td>Cops Explain How To Pull Off A Good Halloween ...</td>\n",
       "      <td>Everyone loves a good Halloween prank. Well, e...</td>\n",
       "    </tr>\n",
       "    <tr>\n",
       "      <th>2152</th>\n",
       "      <td>CRIME</td>\n",
       "      <td>Utah Cop Who Violently Arrested Nurse Is Fired</td>\n",
       "      <td>The veteran Utah cop who drew national outrage...</td>\n",
       "    </tr>\n",
       "    <tr>\n",
       "      <th>2047</th>\n",
       "      <td>CRIME</td>\n",
       "      <td>White Supremacist Charged With Terrorism After...</td>\n",
       "      <td>The FBI has charged a 26-year-old Missouri man...</td>\n",
       "    </tr>\n",
       "    <tr>\n",
       "      <th>...</th>\n",
       "      <td>...</td>\n",
       "      <td>...</td>\n",
       "      <td>...</td>\n",
       "    </tr>\n",
       "    <tr>\n",
       "      <th>1101</th>\n",
       "      <td>BUSINESS</td>\n",
       "      <td>ESPN President John Skipper Resigns Unexpectedly</td>\n",
       "      <td>ESPN President and Disney Media Networks Co-Ch...</td>\n",
       "    </tr>\n",
       "    <tr>\n",
       "      <th>1414</th>\n",
       "      <td>BUSINESS</td>\n",
       "      <td>If You Have One Of These Toys In Your House, Y...</td>\n",
       "      <td>Sloppy data security practices at a toy compan...</td>\n",
       "    </tr>\n",
       "    <tr>\n",
       "      <th>1440</th>\n",
       "      <td>BUSINESS</td>\n",
       "      <td>Judge Blocks $48 Billion Anthem-Cigna Merger</td>\n",
       "      <td>(Reuters) - A federal judge on Wednesday ruled...</td>\n",
       "    </tr>\n",
       "    <tr>\n",
       "      <th>1214</th>\n",
       "      <td>BUSINESS</td>\n",
       "      <td>GoDaddy Pulls The Plug On Neo-Nazi Website The...</td>\n",
       "      <td>Web hosting company GoDaddy announced on Sunda...</td>\n",
       "    </tr>\n",
       "    <tr>\n",
       "      <th>1075</th>\n",
       "      <td>BUSINESS</td>\n",
       "      <td>Donald Trump To Push His 'America First' Agend...</td>\n",
       "      <td>WASHINGTON, Jan 25 (Reuters) - President Donal...</td>\n",
       "    </tr>\n",
       "  </tbody>\n",
       "</table>\n",
       "<p>1800 rows × 3 columns</p>\n",
       "</div>"
      ],
      "text/plain": [
       "      category                                              title  \\\n",
       "2006     CRIME  Parkland Shooter's Rifle Magazines Were Etched...   \n",
       "1907     CRIME  Man Who Killed Indian Immigrant Sentenced To L...   \n",
       "2143     CRIME  Cops Explain How To Pull Off A Good Halloween ...   \n",
       "2152     CRIME     Utah Cop Who Violently Arrested Nurse Is Fired   \n",
       "2047     CRIME  White Supremacist Charged With Terrorism After...   \n",
       "...        ...                                                ...   \n",
       "1101  BUSINESS   ESPN President John Skipper Resigns Unexpectedly   \n",
       "1414  BUSINESS  If You Have One Of These Toys In Your House, Y...   \n",
       "1440  BUSINESS       Judge Blocks $48 Billion Anthem-Cigna Merger   \n",
       "1214  BUSINESS  GoDaddy Pulls The Plug On Neo-Nazi Website The...   \n",
       "1075  BUSINESS  Donald Trump To Push His 'America First' Agend...   \n",
       "\n",
       "                                                   body  \n",
       "2006  Officials say they found swastikas etched into...  \n",
       "1907  A Kansas man who shot three people in a bar, k...  \n",
       "2143  Everyone loves a good Halloween prank. Well, e...  \n",
       "2152  The veteran Utah cop who drew national outrage...  \n",
       "2047  The FBI has charged a 26-year-old Missouri man...  \n",
       "...                                                 ...  \n",
       "1101  ESPN President and Disney Media Networks Co-Ch...  \n",
       "1414  Sloppy data security practices at a toy compan...  \n",
       "1440  (Reuters) - A federal judge on Wednesday ruled...  \n",
       "1214  Web hosting company GoDaddy announced on Sunda...  \n",
       "1075  WASHINGTON, Jan 25 (Reuters) - President Donal...  \n",
       "\n",
       "[1800 rows x 3 columns]"
      ]
     },
     "execution_count": 15,
     "metadata": {},
     "output_type": "execute_result"
    }
   ],
   "source": [
    "# Concatenate them\n",
    "balanced_df = pd.concat([balanced_crime, balanced_science, balanced_comedy, balanced_sports, balanced_politics, balanced_business], axis=0)\n",
    "balanced_df"
   ]
  },
  {
   "cell_type": "code",
   "execution_count": 16,
   "id": "8c8ab379",
   "metadata": {},
   "outputs": [
    {
     "data": {
      "text/plain": [
       "CRIME       300\n",
       "SCIENCE     300\n",
       "COMEDY      300\n",
       "SPORTS      300\n",
       "POLITICS    300\n",
       "BUSINESS    300\n",
       "Name: category, dtype: int64"
      ]
     },
     "execution_count": 16,
     "metadata": {},
     "output_type": "execute_result"
    }
   ],
   "source": [
    "balanced_df[\"category\"].value_counts()"
   ]
  },
  {
   "cell_type": "code",
   "execution_count": 17,
   "id": "93bc9665",
   "metadata": {},
   "outputs": [],
   "source": [
    "# Label encoding\n",
    "balanced_df[\"category_num\"] = balanced_df[\"category\"].map({\n",
    "    \"CRIME\":0,\n",
    "    \"SCIENCE\":1,\n",
    "    \"COMEDY\":2,\n",
    "    \"SPORTS\":3,\n",
    "    \"POLITICS\":4,\n",
    "    \"BUSINESS\":5\n",
    "})"
   ]
  },
  {
   "cell_type": "code",
   "execution_count": 18,
   "id": "400d0d46",
   "metadata": {},
   "outputs": [
    {
     "data": {
      "text/html": [
       "<div>\n",
       "<style scoped>\n",
       "    .dataframe tbody tr th:only-of-type {\n",
       "        vertical-align: middle;\n",
       "    }\n",
       "\n",
       "    .dataframe tbody tr th {\n",
       "        vertical-align: top;\n",
       "    }\n",
       "\n",
       "    .dataframe thead th {\n",
       "        text-align: right;\n",
       "    }\n",
       "</style>\n",
       "<table border=\"1\" class=\"dataframe\">\n",
       "  <thead>\n",
       "    <tr style=\"text-align: right;\">\n",
       "      <th></th>\n",
       "      <th>category</th>\n",
       "      <th>title</th>\n",
       "      <th>body</th>\n",
       "      <th>category_num</th>\n",
       "    </tr>\n",
       "  </thead>\n",
       "  <tbody>\n",
       "    <tr>\n",
       "      <th>2006</th>\n",
       "      <td>CRIME</td>\n",
       "      <td>Parkland Shooter's Rifle Magazines Were Etched...</td>\n",
       "      <td>Officials say they found swastikas etched into...</td>\n",
       "      <td>0</td>\n",
       "    </tr>\n",
       "    <tr>\n",
       "      <th>1907</th>\n",
       "      <td>CRIME</td>\n",
       "      <td>Man Who Killed Indian Immigrant Sentenced To L...</td>\n",
       "      <td>A Kansas man who shot three people in a bar, k...</td>\n",
       "      <td>0</td>\n",
       "    </tr>\n",
       "    <tr>\n",
       "      <th>2143</th>\n",
       "      <td>CRIME</td>\n",
       "      <td>Cops Explain How To Pull Off A Good Halloween ...</td>\n",
       "      <td>Everyone loves a good Halloween prank. Well, e...</td>\n",
       "      <td>0</td>\n",
       "    </tr>\n",
       "    <tr>\n",
       "      <th>2152</th>\n",
       "      <td>CRIME</td>\n",
       "      <td>Utah Cop Who Violently Arrested Nurse Is Fired</td>\n",
       "      <td>The veteran Utah cop who drew national outrage...</td>\n",
       "      <td>0</td>\n",
       "    </tr>\n",
       "    <tr>\n",
       "      <th>2047</th>\n",
       "      <td>CRIME</td>\n",
       "      <td>White Supremacist Charged With Terrorism After...</td>\n",
       "      <td>The FBI has charged a 26-year-old Missouri man...</td>\n",
       "      <td>0</td>\n",
       "    </tr>\n",
       "    <tr>\n",
       "      <th>...</th>\n",
       "      <td>...</td>\n",
       "      <td>...</td>\n",
       "      <td>...</td>\n",
       "      <td>...</td>\n",
       "    </tr>\n",
       "    <tr>\n",
       "      <th>1101</th>\n",
       "      <td>BUSINESS</td>\n",
       "      <td>ESPN President John Skipper Resigns Unexpectedly</td>\n",
       "      <td>ESPN President and Disney Media Networks Co-Ch...</td>\n",
       "      <td>5</td>\n",
       "    </tr>\n",
       "    <tr>\n",
       "      <th>1414</th>\n",
       "      <td>BUSINESS</td>\n",
       "      <td>If You Have One Of These Toys In Your House, Y...</td>\n",
       "      <td>Sloppy data security practices at a toy compan...</td>\n",
       "      <td>5</td>\n",
       "    </tr>\n",
       "    <tr>\n",
       "      <th>1440</th>\n",
       "      <td>BUSINESS</td>\n",
       "      <td>Judge Blocks $48 Billion Anthem-Cigna Merger</td>\n",
       "      <td>(Reuters) - A federal judge on Wednesday ruled...</td>\n",
       "      <td>5</td>\n",
       "    </tr>\n",
       "    <tr>\n",
       "      <th>1214</th>\n",
       "      <td>BUSINESS</td>\n",
       "      <td>GoDaddy Pulls The Plug On Neo-Nazi Website The...</td>\n",
       "      <td>Web hosting company GoDaddy announced on Sunda...</td>\n",
       "      <td>5</td>\n",
       "    </tr>\n",
       "    <tr>\n",
       "      <th>1075</th>\n",
       "      <td>BUSINESS</td>\n",
       "      <td>Donald Trump To Push His 'America First' Agend...</td>\n",
       "      <td>WASHINGTON, Jan 25 (Reuters) - President Donal...</td>\n",
       "      <td>5</td>\n",
       "    </tr>\n",
       "  </tbody>\n",
       "</table>\n",
       "<p>1800 rows × 4 columns</p>\n",
       "</div>"
      ],
      "text/plain": [
       "      category                                              title  \\\n",
       "2006     CRIME  Parkland Shooter's Rifle Magazines Were Etched...   \n",
       "1907     CRIME  Man Who Killed Indian Immigrant Sentenced To L...   \n",
       "2143     CRIME  Cops Explain How To Pull Off A Good Halloween ...   \n",
       "2152     CRIME     Utah Cop Who Violently Arrested Nurse Is Fired   \n",
       "2047     CRIME  White Supremacist Charged With Terrorism After...   \n",
       "...        ...                                                ...   \n",
       "1101  BUSINESS   ESPN President John Skipper Resigns Unexpectedly   \n",
       "1414  BUSINESS  If You Have One Of These Toys In Your House, Y...   \n",
       "1440  BUSINESS       Judge Blocks $48 Billion Anthem-Cigna Merger   \n",
       "1214  BUSINESS  GoDaddy Pulls The Plug On Neo-Nazi Website The...   \n",
       "1075  BUSINESS  Donald Trump To Push His 'America First' Agend...   \n",
       "\n",
       "                                                   body  category_num  \n",
       "2006  Officials say they found swastikas etched into...             0  \n",
       "1907  A Kansas man who shot three people in a bar, k...             0  \n",
       "2143  Everyone loves a good Halloween prank. Well, e...             0  \n",
       "2152  The veteran Utah cop who drew national outrage...             0  \n",
       "2047  The FBI has charged a 26-year-old Missouri man...             0  \n",
       "...                                                 ...           ...  \n",
       "1101  ESPN President and Disney Media Networks Co-Ch...             5  \n",
       "1414  Sloppy data security practices at a toy compan...             5  \n",
       "1440  (Reuters) - A federal judge on Wednesday ruled...             5  \n",
       "1214  Web hosting company GoDaddy announced on Sunda...             5  \n",
       "1075  WASHINGTON, Jan 25 (Reuters) - President Donal...             5  \n",
       "\n",
       "[1800 rows x 4 columns]"
      ]
     },
     "execution_count": 18,
     "metadata": {},
     "output_type": "execute_result"
    }
   ],
   "source": [
    "balanced_df"
   ]
  },
  {
   "cell_type": "code",
   "execution_count": 19,
   "id": "2075d174",
   "metadata": {
    "scrolled": true
   },
   "outputs": [
    {
     "data": {
      "text/html": [
       "<div>\n",
       "<style scoped>\n",
       "    .dataframe tbody tr th:only-of-type {\n",
       "        vertical-align: middle;\n",
       "    }\n",
       "\n",
       "    .dataframe tbody tr th {\n",
       "        vertical-align: top;\n",
       "    }\n",
       "\n",
       "    .dataframe thead th {\n",
       "        text-align: right;\n",
       "    }\n",
       "</style>\n",
       "<table border=\"1\" class=\"dataframe\">\n",
       "  <thead>\n",
       "    <tr style=\"text-align: right;\">\n",
       "      <th></th>\n",
       "      <th>category</th>\n",
       "      <th>body</th>\n",
       "      <th>category_num</th>\n",
       "    </tr>\n",
       "  </thead>\n",
       "  <tbody>\n",
       "    <tr>\n",
       "      <th>2006</th>\n",
       "      <td>CRIME</td>\n",
       "      <td>Officials say they found swastikas etched into...</td>\n",
       "      <td>0</td>\n",
       "    </tr>\n",
       "    <tr>\n",
       "      <th>1907</th>\n",
       "      <td>CRIME</td>\n",
       "      <td>A Kansas man who shot three people in a bar, k...</td>\n",
       "      <td>0</td>\n",
       "    </tr>\n",
       "    <tr>\n",
       "      <th>2143</th>\n",
       "      <td>CRIME</td>\n",
       "      <td>Everyone loves a good Halloween prank. Well, e...</td>\n",
       "      <td>0</td>\n",
       "    </tr>\n",
       "    <tr>\n",
       "      <th>2152</th>\n",
       "      <td>CRIME</td>\n",
       "      <td>The veteran Utah cop who drew national outrage...</td>\n",
       "      <td>0</td>\n",
       "    </tr>\n",
       "    <tr>\n",
       "      <th>2047</th>\n",
       "      <td>CRIME</td>\n",
       "      <td>The FBI has charged a 26-year-old Missouri man...</td>\n",
       "      <td>0</td>\n",
       "    </tr>\n",
       "    <tr>\n",
       "      <th>...</th>\n",
       "      <td>...</td>\n",
       "      <td>...</td>\n",
       "      <td>...</td>\n",
       "    </tr>\n",
       "    <tr>\n",
       "      <th>1101</th>\n",
       "      <td>BUSINESS</td>\n",
       "      <td>ESPN President and Disney Media Networks Co-Ch...</td>\n",
       "      <td>5</td>\n",
       "    </tr>\n",
       "    <tr>\n",
       "      <th>1414</th>\n",
       "      <td>BUSINESS</td>\n",
       "      <td>Sloppy data security practices at a toy compan...</td>\n",
       "      <td>5</td>\n",
       "    </tr>\n",
       "    <tr>\n",
       "      <th>1440</th>\n",
       "      <td>BUSINESS</td>\n",
       "      <td>(Reuters) - A federal judge on Wednesday ruled...</td>\n",
       "      <td>5</td>\n",
       "    </tr>\n",
       "    <tr>\n",
       "      <th>1214</th>\n",
       "      <td>BUSINESS</td>\n",
       "      <td>Web hosting company GoDaddy announced on Sunda...</td>\n",
       "      <td>5</td>\n",
       "    </tr>\n",
       "    <tr>\n",
       "      <th>1075</th>\n",
       "      <td>BUSINESS</td>\n",
       "      <td>WASHINGTON, Jan 25 (Reuters) - President Donal...</td>\n",
       "      <td>5</td>\n",
       "    </tr>\n",
       "  </tbody>\n",
       "</table>\n",
       "<p>1800 rows × 3 columns</p>\n",
       "</div>"
      ],
      "text/plain": [
       "      category                                               body  \\\n",
       "2006     CRIME  Officials say they found swastikas etched into...   \n",
       "1907     CRIME  A Kansas man who shot three people in a bar, k...   \n",
       "2143     CRIME  Everyone loves a good Halloween prank. Well, e...   \n",
       "2152     CRIME  The veteran Utah cop who drew national outrage...   \n",
       "2047     CRIME  The FBI has charged a 26-year-old Missouri man...   \n",
       "...        ...                                                ...   \n",
       "1101  BUSINESS  ESPN President and Disney Media Networks Co-Ch...   \n",
       "1414  BUSINESS  Sloppy data security practices at a toy compan...   \n",
       "1440  BUSINESS  (Reuters) - A federal judge on Wednesday ruled...   \n",
       "1214  BUSINESS  Web hosting company GoDaddy announced on Sunda...   \n",
       "1075  BUSINESS  WASHINGTON, Jan 25 (Reuters) - President Donal...   \n",
       "\n",
       "      category_num  \n",
       "2006             0  \n",
       "1907             0  \n",
       "2143             0  \n",
       "2152             0  \n",
       "2047             0  \n",
       "...            ...  \n",
       "1101             5  \n",
       "1414             5  \n",
       "1440             5  \n",
       "1214             5  \n",
       "1075             5  \n",
       "\n",
       "[1800 rows x 3 columns]"
      ]
     },
     "execution_count": 19,
     "metadata": {},
     "output_type": "execute_result"
    }
   ],
   "source": [
    "# Removing \"title\" column from this dataset\n",
    "balanced_df = balanced_df.drop([\"title\"], axis=1)\n",
    "balanced_df"
   ]
  },
  {
   "cell_type": "code",
   "execution_count": 20,
   "id": "46e82012",
   "metadata": {},
   "outputs": [
    {
     "data": {
      "text/plain": [
       "category        0\n",
       "body            3\n",
       "category_num    0\n",
       "dtype: int64"
      ]
     },
     "execution_count": 20,
     "metadata": {},
     "output_type": "execute_result"
    }
   ],
   "source": [
    "# Finding missing values\n",
    "balanced_df.isnull().sum()"
   ]
  },
  {
   "cell_type": "code",
   "execution_count": 21,
   "id": "01b3a06a",
   "metadata": {},
   "outputs": [],
   "source": [
    "# Handling missing values with empty string\n",
    "balanced_df.fillna(\" \",inplace=True)"
   ]
  },
  {
   "cell_type": "code",
   "execution_count": 22,
   "id": "20610950",
   "metadata": {},
   "outputs": [
    {
     "data": {
      "text/plain": [
       "category        0\n",
       "body            0\n",
       "category_num    0\n",
       "dtype: int64"
      ]
     },
     "execution_count": 22,
     "metadata": {},
     "output_type": "execute_result"
    }
   ],
   "source": [
    "# Finding missing values\n",
    "balanced_df.isnull().sum()"
   ]
  },
  {
   "cell_type": "code",
   "execution_count": 23,
   "id": "97f4c715",
   "metadata": {},
   "outputs": [
    {
     "data": {
      "text/plain": [
       "3"
      ]
     },
     "execution_count": 23,
     "metadata": {},
     "output_type": "execute_result"
    }
   ],
   "source": [
    "# finding duplicates values\n",
    "balanced_df.duplicated().sum()"
   ]
  },
  {
   "cell_type": "code",
   "execution_count": 24,
   "id": "ff58983e",
   "metadata": {},
   "outputs": [],
   "source": [
    "# Handling duplicates value\n",
    "balanced_df.drop_duplicates(inplace=True)"
   ]
  },
  {
   "cell_type": "code",
   "execution_count": 25,
   "id": "8c53c7a2",
   "metadata": {},
   "outputs": [
    {
     "data": {
      "text/plain": [
       "0"
      ]
     },
     "execution_count": 25,
     "metadata": {},
     "output_type": "execute_result"
    }
   ],
   "source": [
    "# finding duplicates values\n",
    "balanced_df.duplicated().sum()"
   ]
  },
  {
   "cell_type": "code",
   "execution_count": 26,
   "id": "4b5bcc18",
   "metadata": {},
   "outputs": [],
   "source": [
    "# Splitting the dataset into training and test set\n",
    "from sklearn.model_selection import train_test_split\n",
    "x_train, x_test, y_train, y_test = train_test_split(balanced_df[\"body\"], balanced_df[\"category_num\"], test_size = 0.2, stratify = balanced_df[\"category_num\"])"
   ]
  },
  {
   "cell_type": "code",
   "execution_count": 27,
   "id": "08271488",
   "metadata": {},
   "outputs": [
    {
     "name": "stdout",
     "output_type": "stream",
     "text": [
      "(1797,) (1437,) (360,)\n"
     ]
    }
   ],
   "source": [
    "print(balanced_df[\"body\"].shape, x_train.shape, x_test.shape)"
   ]
  },
  {
   "cell_type": "code",
   "execution_count": 28,
   "id": "5de03d46",
   "metadata": {
    "scrolled": true
   },
   "outputs": [
    {
     "data": {
      "text/plain": [
       "3    60\n",
       "1    60\n",
       "2    60\n",
       "5    60\n",
       "4    60\n",
       "0    60\n",
       "Name: category_num, dtype: int64"
      ]
     },
     "execution_count": 28,
     "metadata": {},
     "output_type": "execute_result"
    }
   ],
   "source": [
    "y_test.value_counts()"
   ]
  },
  {
   "cell_type": "code",
   "execution_count": 29,
   "id": "21fab66e",
   "metadata": {},
   "outputs": [
    {
     "data": {
      "text/plain": [
       "1838    If you didn't already wish you were a cat, jus...\n",
       "1034    NEW YORK (Reuters) - U.S. film and TV studio T...\n",
       "5104      By Sara Chodosh Not every lad can eat four d...\n",
       "5773    Houston Texans defensive end J.J. Watt has mad...\n",
       "1520    It’s been a long time coming, but “Sarah Palin...\n",
       "Name: body, dtype: object"
      ]
     },
     "execution_count": 29,
     "metadata": {},
     "output_type": "execute_result"
    }
   ],
   "source": [
    "x_train.head()"
   ]
  },
  {
   "cell_type": "markdown",
   "id": "2dba6150",
   "metadata": {},
   "source": [
    "# Using Scikit-Learn Pipeline and ngram_range=(1,1),that is by default value of CountVectorizer"
   ]
  },
  {
   "cell_type": "code",
   "execution_count": 30,
   "id": "cbbb18b3",
   "metadata": {},
   "outputs": [
    {
     "data": {
      "text/plain": [
       "Pipeline(steps=[('vectorizer', CountVectorizer()), ('nb', MultinomialNB())])"
      ]
     },
     "execution_count": 30,
     "metadata": {},
     "output_type": "execute_result"
    }
   ],
   "source": [
    "from sklearn.feature_extraction.text import CountVectorizer\n",
    "cv = CountVectorizer()\n",
    "\n",
    "from sklearn.naive_bayes import MultinomialNB\n",
    "\n",
    "from sklearn.pipeline import Pipeline\n",
    "\n",
    "clf = Pipeline([\n",
    "    (\"vectorizer\", CountVectorizer()),\n",
    "    (\"nb\", MultinomialNB())\n",
    "])\n",
    "clf.fit(x_train, y_train)"
   ]
  },
  {
   "cell_type": "code",
   "execution_count": 31,
   "id": "4983a3c9",
   "metadata": {},
   "outputs": [],
   "source": [
    "# x_test prediction\n",
    "y_pred = clf.predict(x_test)"
   ]
  },
  {
   "cell_type": "code",
   "execution_count": 32,
   "id": "d90fde1c",
   "metadata": {},
   "outputs": [
    {
     "name": "stdout",
     "output_type": "stream",
     "text": [
      "              precision    recall  f1-score   support\n",
      "\n",
      "           0       0.89      0.95      0.92        60\n",
      "           1       0.95      0.93      0.94        60\n",
      "           2       0.98      0.68      0.80        60\n",
      "           3       0.91      0.85      0.88        60\n",
      "           4       0.75      0.88      0.81        60\n",
      "           5       0.85      0.97      0.91        60\n",
      "\n",
      "    accuracy                           0.88       360\n",
      "   macro avg       0.89      0.88      0.88       360\n",
      "weighted avg       0.89      0.88      0.88       360\n",
      "\n"
     ]
    }
   ],
   "source": [
    "# Classification Report\n",
    "from sklearn.metrics import classification_report\n",
    "cr = classification_report(y_test, y_pred)\n",
    "print(cr)"
   ]
  },
  {
   "cell_type": "code",
   "execution_count": 33,
   "id": "a0a246a9",
   "metadata": {
    "scrolled": true
   },
   "outputs": [
    {
     "data": {
      "text/plain": [
       "<AxesSubplot:>"
      ]
     },
     "execution_count": 33,
     "metadata": {},
     "output_type": "execute_result"
    },
    {
     "data": {
      "image/png": "[encoded data removed]",
      "text/plain": [
       "<Figure size 640x480 with 2 Axes>"
      ]
     },
     "metadata": {},
     "output_type": "display_data"
    }
   ],
   "source": [
    "# Confusuion matrix\n",
    "from sklearn.metrics import confusion_matrix\n",
    "cm = confusion_matrix(y_test, y_pred)\n",
    "\n",
    "# Visualization\n",
    "sns.set()\n",
    "sns.heatmap(cm, fmt= \".1f\", annot=True, cbar=True, cmap=\"viridis\")"
   ]
  },
  {
   "cell_type": "code",
   "execution_count": 34,
   "id": "dc56eed0",
   "metadata": {},
   "outputs": [
    {
     "data": {
      "text/plain": [
       "5390    (Reuters) - Former cycling champion Lance Arms...\n",
       "5285    As a female chemical engineer, Frances Arnold ...\n",
       "1585    Special counsel Robert Mueller has a list of q...\n",
       "1574    Luck was not a lady for these gamblers. On Thu...\n",
       "1684    “Late Show” host Stephen Colbert said many peo...\n",
       "Name: body, dtype: object"
      ]
     },
     "execution_count": 34,
     "metadata": {},
     "output_type": "execute_result"
    }
   ],
   "source": [
    "x_test[:5]"
   ]
  },
  {
   "cell_type": "code",
   "execution_count": 35,
   "id": "13edd83a",
   "metadata": {},
   "outputs": [
    {
     "data": {
      "text/plain": [
       "5390    3\n",
       "5285    1\n",
       "1585    2\n",
       "1574    2\n",
       "1684    2\n",
       "Name: category_num, dtype: int64"
      ]
     },
     "execution_count": 35,
     "metadata": {},
     "output_type": "execute_result"
    }
   ],
   "source": [
    "y_test[:5]"
   ]
  },
  {
   "cell_type": "raw",
   "id": "cf1cb79d",
   "metadata": {},
   "source": [
    "CRIME ==> 0\n",
    "SCIENCE ==> 1\n",
    "COMEDY ==> 2\n",
    "SPORTS ==> 3\n",
    "POLITICS ==> 4\n",
    "BUSINESS ==> 5"
   ]
  },
  {
   "cell_type": "code",
   "execution_count": 36,
   "id": "d258ce63",
   "metadata": {},
   "outputs": [
    {
     "data": {
      "text/plain": [
       "array([4, 1, 2, 2, 2], dtype=int64)"
      ]
     },
     "execution_count": 36,
     "metadata": {},
     "output_type": "execute_result"
    }
   ],
   "source": [
    "y_pred[:5]"
   ]
  },
  {
   "cell_type": "markdown",
   "id": "54c877a3",
   "metadata": {},
   "source": [
    "# Using Scikit-Learn Pipeline and ngram_range=(1,2)"
   ]
  },
  {
   "cell_type": "code",
   "execution_count": 37,
   "id": "277fb96c",
   "metadata": {},
   "outputs": [
    {
     "data": {
      "text/plain": [
       "Pipeline(steps=[('vectorizer', CountVectorizer(ngram_range=(1, 2))),\n",
       "                ('nb', MultinomialNB())])"
      ]
     },
     "execution_count": 37,
     "metadata": {},
     "output_type": "execute_result"
    }
   ],
   "source": [
    "from sklearn.feature_extraction.text import CountVectorizer\n",
    "cv = CountVectorizer()\n",
    "\n",
    "from sklearn.naive_bayes import MultinomialNB\n",
    "\n",
    "from sklearn.pipeline import Pipeline\n",
    "\n",
    "clf = Pipeline([\n",
    "    (\"vectorizer\", CountVectorizer(ngram_range=(1,2))),\n",
    "    (\"nb\", MultinomialNB())\n",
    "])\n",
    "clf.fit(x_train, y_train)"
   ]
  },
  {
   "cell_type": "code",
   "execution_count": 38,
   "id": "96749035",
   "metadata": {},
   "outputs": [],
   "source": [
    "# x_test prediction\n",
    "y_pred = clf.predict(x_test)"
   ]
  },
  {
   "cell_type": "code",
   "execution_count": 39,
   "id": "fc8cf690",
   "metadata": {},
   "outputs": [
    {
     "name": "stdout",
     "output_type": "stream",
     "text": [
      "              precision    recall  f1-score   support\n",
      "\n",
      "           0       0.93      0.90      0.92        60\n",
      "           1       0.98      0.83      0.90        60\n",
      "           2       1.00      0.15      0.26        60\n",
      "           3       0.98      0.83      0.90        60\n",
      "           4       0.52      0.95      0.67        60\n",
      "           5       0.71      0.97      0.82        60\n",
      "\n",
      "    accuracy                           0.77       360\n",
      "   macro avg       0.85      0.77      0.74       360\n",
      "weighted avg       0.85      0.77      0.74       360\n",
      "\n"
     ]
    }
   ],
   "source": [
    "# Classification Report\n",
    "from sklearn.metrics import classification_report\n",
    "cr = classification_report(y_test, y_pred)\n",
    "print(cr)"
   ]
  },
  {
   "cell_type": "code",
   "execution_count": 40,
   "id": "cc8ad491",
   "metadata": {},
   "outputs": [
    {
     "data": {
      "text/plain": [
       "<AxesSubplot:>"
      ]
     },
     "execution_count": 40,
     "metadata": {},
     "output_type": "execute_result"
    },
    {
     "data": {
      "image/png": "[encoded data removed]",
      "text/plain": [
       "<Figure size 640x480 with 2 Axes>"
      ]
     },
     "metadata": {},
     "output_type": "display_data"
    }
   ],
   "source": [
    "# Confusuion matrix\n",
    "from sklearn.metrics import confusion_matrix\n",
    "cm = confusion_matrix(y_test, y_pred)\n",
    "\n",
    "# Visualization\n",
    "sns.set()\n",
    "sns.heatmap(cm, fmt= \".1f\", annot=True, cbar=True, cmap=\"viridis\")"
   ]
  },
  {
   "cell_type": "code",
   "execution_count": 41,
   "id": "c9c3a26e",
   "metadata": {},
   "outputs": [
    {
     "data": {
      "text/plain": [
       "5390    (Reuters) - Former cycling champion Lance Arms...\n",
       "5285    As a female chemical engineer, Frances Arnold ...\n",
       "1585    Special counsel Robert Mueller has a list of q...\n",
       "1574    Luck was not a lady for these gamblers. On Thu...\n",
       "1684    “Late Show” host Stephen Colbert said many peo...\n",
       "Name: body, dtype: object"
      ]
     },
     "execution_count": 41,
     "metadata": {},
     "output_type": "execute_result"
    }
   ],
   "source": [
    "x_test[:5]"
   ]
  },
  {
   "cell_type": "code",
   "execution_count": 42,
   "id": "a970928a",
   "metadata": {},
   "outputs": [
    {
     "data": {
      "text/plain": [
       "5390    3\n",
       "5285    1\n",
       "1585    2\n",
       "1574    2\n",
       "1684    2\n",
       "Name: category_num, dtype: int64"
      ]
     },
     "execution_count": 42,
     "metadata": {},
     "output_type": "execute_result"
    }
   ],
   "source": [
    "y_test[:5]"
   ]
  },
  {
   "cell_type": "raw",
   "id": "f41d9e78",
   "metadata": {},
   "source": [
    "CRIME ==> 0\n",
    "SCIENCE ==> 1\n",
    "COMEDY ==> 2\n",
    "SPORTS ==> 3\n",
    "POLITICS ==> 4\n",
    "BUSINESS ==> 5"
   ]
  },
  {
   "cell_type": "code",
   "execution_count": 43,
   "id": "447f5e67",
   "metadata": {},
   "outputs": [
    {
     "data": {
      "text/plain": [
       "array([4, 1, 2, 2, 4], dtype=int64)"
      ]
     },
     "execution_count": 43,
     "metadata": {},
     "output_type": "execute_result"
    }
   ],
   "source": [
    "y_pred[:5]"
   ]
  },
  {
   "cell_type": "markdown",
   "id": "9b321256",
   "metadata": {},
   "source": [
    "# After Lemmatization the Text"
   ]
  },
  {
   "cell_type": "code",
   "execution_count": 44,
   "id": "d148b483",
   "metadata": {},
   "outputs": [],
   "source": [
    "import spacy\n",
    "# load english language model and create nlp object for it\n",
    "nlp = spacy.load(\"en_core_web_sm\")\n",
    "\n",
    "# Create function that will removing stop words,puntuations and returning lemmatizing word\n",
    "def processing(text):\n",
    "    doc = nlp(text)\n",
    "    \n",
    "    filtered_text = []\n",
    "    for token in doc:\n",
    "        if token.is_stop or token.is_punct:\n",
    "            continue\n",
    "            \n",
    "        filtered_text.append(token.lemma_)\n",
    "    return \" \".join(filtered_text)"
   ]
  },
  {
   "cell_type": "code",
   "execution_count": 45,
   "id": "cc8ebbd2",
   "metadata": {},
   "outputs": [
    {
     "data": {
      "text/html": [
       "<div>\n",
       "<style scoped>\n",
       "    .dataframe tbody tr th:only-of-type {\n",
       "        vertical-align: middle;\n",
       "    }\n",
       "\n",
       "    .dataframe tbody tr th {\n",
       "        vertical-align: top;\n",
       "    }\n",
       "\n",
       "    .dataframe thead th {\n",
       "        text-align: right;\n",
       "    }\n",
       "</style>\n",
       "<table border=\"1\" class=\"dataframe\">\n",
       "  <thead>\n",
       "    <tr style=\"text-align: right;\">\n",
       "      <th></th>\n",
       "      <th>category</th>\n",
       "      <th>body</th>\n",
       "      <th>category_num</th>\n",
       "      <th>body_processed</th>\n",
       "    </tr>\n",
       "  </thead>\n",
       "  <tbody>\n",
       "    <tr>\n",
       "      <th>2006</th>\n",
       "      <td>CRIME</td>\n",
       "      <td>Officials say they found swastikas etched into...</td>\n",
       "      <td>0</td>\n",
       "      <td>official find swastikas etch Florida high scho...</td>\n",
       "    </tr>\n",
       "    <tr>\n",
       "      <th>1907</th>\n",
       "      <td>CRIME</td>\n",
       "      <td>A Kansas man who shot three people in a bar, k...</td>\n",
       "      <td>0</td>\n",
       "      <td>Kansas man shoot people bar kill engineer Indi...</td>\n",
       "    </tr>\n",
       "    <tr>\n",
       "      <th>2143</th>\n",
       "      <td>CRIME</td>\n",
       "      <td>Everyone loves a good Halloween prank. Well, e...</td>\n",
       "      <td>0</td>\n",
       "      <td>love good Halloween prank   victim occasionall...</td>\n",
       "    </tr>\n",
       "    <tr>\n",
       "      <th>2152</th>\n",
       "      <td>CRIME</td>\n",
       "      <td>The veteran Utah cop who drew national outrage...</td>\n",
       "      <td>0</td>\n",
       "      <td>veteran Utah cop draw national outrage body ca...</td>\n",
       "    </tr>\n",
       "    <tr>\n",
       "      <th>2047</th>\n",
       "      <td>CRIME</td>\n",
       "      <td>The FBI has charged a 26-year-old Missouri man...</td>\n",
       "      <td>0</td>\n",
       "      <td>FBI charge 26 year old Missouri man terrorism ...</td>\n",
       "    </tr>\n",
       "    <tr>\n",
       "      <th>...</th>\n",
       "      <td>...</td>\n",
       "      <td>...</td>\n",
       "      <td>...</td>\n",
       "      <td>...</td>\n",
       "    </tr>\n",
       "    <tr>\n",
       "      <th>1101</th>\n",
       "      <td>BUSINESS</td>\n",
       "      <td>ESPN President and Disney Media Networks Co-Ch...</td>\n",
       "      <td>5</td>\n",
       "      <td>ESPN President Disney Media Networks Co Chairm...</td>\n",
       "    </tr>\n",
       "    <tr>\n",
       "      <th>1414</th>\n",
       "      <td>BUSINESS</td>\n",
       "      <td>Sloppy data security practices at a toy compan...</td>\n",
       "      <td>5</td>\n",
       "      <td>sloppy datum security practice toy company sel...</td>\n",
       "    </tr>\n",
       "    <tr>\n",
       "      <th>1440</th>\n",
       "      <td>BUSINESS</td>\n",
       "      <td>(Reuters) - A federal judge on Wednesday ruled...</td>\n",
       "      <td>5</td>\n",
       "      <td>Reuters federal judge Wednesday rule U.S. heal...</td>\n",
       "    </tr>\n",
       "    <tr>\n",
       "      <th>1214</th>\n",
       "      <td>BUSINESS</td>\n",
       "      <td>Web hosting company GoDaddy announced on Sunda...</td>\n",
       "      <td>5</td>\n",
       "      <td>web host company GoDaddy announce Sunday neo n...</td>\n",
       "    </tr>\n",
       "    <tr>\n",
       "      <th>1075</th>\n",
       "      <td>BUSINESS</td>\n",
       "      <td>WASHINGTON, Jan 25 (Reuters) - President Donal...</td>\n",
       "      <td>5</td>\n",
       "      <td>WASHINGTON Jan 25 Reuters President Donald Tru...</td>\n",
       "    </tr>\n",
       "  </tbody>\n",
       "</table>\n",
       "<p>1797 rows × 4 columns</p>\n",
       "</div>"
      ],
      "text/plain": [
       "      category                                               body  \\\n",
       "2006     CRIME  Officials say they found swastikas etched into...   \n",
       "1907     CRIME  A Kansas man who shot three people in a bar, k...   \n",
       "2143     CRIME  Everyone loves a good Halloween prank. Well, e...   \n",
       "2152     CRIME  The veteran Utah cop who drew national outrage...   \n",
       "2047     CRIME  The FBI has charged a 26-year-old Missouri man...   \n",
       "...        ...                                                ...   \n",
       "1101  BUSINESS  ESPN President and Disney Media Networks Co-Ch...   \n",
       "1414  BUSINESS  Sloppy data security practices at a toy compan...   \n",
       "1440  BUSINESS  (Reuters) - A federal judge on Wednesday ruled...   \n",
       "1214  BUSINESS  Web hosting company GoDaddy announced on Sunda...   \n",
       "1075  BUSINESS  WASHINGTON, Jan 25 (Reuters) - President Donal...   \n",
       "\n",
       "      category_num                                     body_processed  \n",
       "2006             0  official find swastikas etch Florida high scho...  \n",
       "1907             0  Kansas man shoot people bar kill engineer Indi...  \n",
       "2143             0  love good Halloween prank   victim occasionall...  \n",
       "2152             0  veteran Utah cop draw national outrage body ca...  \n",
       "2047             0  FBI charge 26 year old Missouri man terrorism ...  \n",
       "...            ...                                                ...  \n",
       "1101             5  ESPN President Disney Media Networks Co Chairm...  \n",
       "1414             5  sloppy datum security practice toy company sel...  \n",
       "1440             5  Reuters federal judge Wednesday rule U.S. heal...  \n",
       "1214             5  web host company GoDaddy announce Sunday neo n...  \n",
       "1075             5  WASHINGTON Jan 25 Reuters President Donald Tru...  \n",
       "\n",
       "[1797 rows x 4 columns]"
      ]
     },
     "execution_count": 45,
     "metadata": {},
     "output_type": "execute_result"
    }
   ],
   "source": [
    "balanced_df[\"body_processed\"] = balanced_df[\"body\"].apply(processing)\n",
    "balanced_df"
   ]
  },
  {
   "cell_type": "code",
   "execution_count": 46,
   "id": "938c67fe",
   "metadata": {},
   "outputs": [],
   "source": [
    "# Splitting the dataset into training and test set\n",
    "from sklearn.model_selection import train_test_split\n",
    "x_train, x_test, y_train, y_test = train_test_split(balanced_df[\"body_processed\"], balanced_df[\"category_num\"], test_size = 0.2, stratify = balanced_df[\"category_num\"])"
   ]
  },
  {
   "cell_type": "code",
   "execution_count": 47,
   "id": "b98bb777",
   "metadata": {},
   "outputs": [
    {
     "name": "stdout",
     "output_type": "stream",
     "text": [
      "(1797,) (1437,) (360,)\n"
     ]
    }
   ],
   "source": [
    "print(balanced_df[\"body_processed\"].shape, x_train.shape, x_test.shape)"
   ]
  },
  {
   "cell_type": "code",
   "execution_count": 48,
   "id": "9a4fe2c2",
   "metadata": {},
   "outputs": [
    {
     "data": {
      "text/plain": [
       "4    60\n",
       "2    60\n",
       "0    60\n",
       "1    60\n",
       "3    60\n",
       "5    60\n",
       "Name: category_num, dtype: int64"
      ]
     },
     "execution_count": 48,
     "metadata": {},
     "output_type": "execute_result"
    }
   ],
   "source": [
    "y_test.value_counts()"
   ]
  },
  {
   "cell_type": "code",
   "execution_count": 49,
   "id": "6e5577aa",
   "metadata": {},
   "outputs": [
    {
     "data": {
      "text/plain": [
       "5298    HONOLULU south hawaiian island Kauai lie Makau...\n",
       "5319    dinosaur die ten million year asteroid strike ...\n",
       "4269    16 state lawmaker resign expel legislature MeT...\n",
       "1687    Samantha Bee boost car day fact proud Tuesday ...\n",
       "1813    find piece intentionally mislead comment inten...\n",
       "Name: body_processed, dtype: object"
      ]
     },
     "execution_count": 49,
     "metadata": {},
     "output_type": "execute_result"
    }
   ],
   "source": [
    "x_train[:5]"
   ]
  },
  {
   "cell_type": "code",
   "execution_count": 50,
   "id": "2b57a981",
   "metadata": {},
   "outputs": [
    {
     "data": {
      "text/plain": [
       "Pipeline(steps=[('vectorizer', CountVectorizer()), ('nb', MultinomialNB())])"
      ]
     },
     "execution_count": 50,
     "metadata": {},
     "output_type": "execute_result"
    }
   ],
   "source": [
    "# Scikit-Learn Pipeline\n",
    "from sklearn.feature_extraction.text import CountVectorizer\n",
    "cv = CountVectorizer()\n",
    "\n",
    "from sklearn.naive_bayes import MultinomialNB\n",
    "\n",
    "from sklearn.pipeline import Pipeline\n",
    "\n",
    "clf = Pipeline([\n",
    "    (\"vectorizer\", CountVectorizer()),\n",
    "    (\"nb\", MultinomialNB())\n",
    "])\n",
    "clf.fit(x_train, y_train)"
   ]
  },
  {
   "cell_type": "code",
   "execution_count": 51,
   "id": "9df4eabf",
   "metadata": {},
   "outputs": [],
   "source": [
    "# x_test prediction\n",
    "y_pred = clf.predict(x_test)"
   ]
  },
  {
   "cell_type": "code",
   "execution_count": 52,
   "id": "f01aa0ce",
   "metadata": {},
   "outputs": [
    {
     "name": "stdout",
     "output_type": "stream",
     "text": [
      "              precision    recall  f1-score   support\n",
      "\n",
      "           0       0.90      0.92      0.91        60\n",
      "           1       0.95      0.90      0.92        60\n",
      "           2       0.98      0.67      0.79        60\n",
      "           3       0.91      0.97      0.94        60\n",
      "           4       0.81      0.93      0.87        60\n",
      "           5       0.82      0.93      0.87        60\n",
      "\n",
      "    accuracy                           0.89       360\n",
      "   macro avg       0.89      0.89      0.88       360\n",
      "weighted avg       0.89      0.89      0.88       360\n",
      "\n"
     ]
    }
   ],
   "source": [
    "# Classification Report\n",
    "from sklearn.metrics import classification_report\n",
    "cr = classification_report(y_test, y_pred)\n",
    "print(cr)"
   ]
  },
  {
   "cell_type": "code",
   "execution_count": 53,
   "id": "c31b6b06",
   "metadata": {},
   "outputs": [
    {
     "data": {
      "text/plain": [
       "<AxesSubplot:>"
      ]
     },
     "execution_count": 53,
     "metadata": {},
     "output_type": "execute_result"
    },
    {
     "data": {
      "image/png": "[encoded data removed]",
      "text/plain": [
       "<Figure size 640x480 with 2 Axes>"
      ]
     },
     "metadata": {},
     "output_type": "display_data"
    }
   ],
   "source": [
    "# Confusuion matrix\n",
    "from sklearn.metrics import confusion_matrix\n",
    "cm = confusion_matrix(y_test, y_pred)\n",
    "\n",
    "# Visualization\n",
    "sns.set()\n",
    "sns.heatmap(cm, fmt= \".1f\", annot=True, cbar=True, cmap=\"viridis\")"
   ]
  },
  {
   "cell_type": "code",
   "execution_count": 54,
   "id": "aee55850",
   "metadata": {},
   "outputs": [
    {
     "data": {
      "text/plain": [
       "4040    DUBLIN week Ireland historic vote legalize abo...\n",
       "1703    President Donald Trump Monday call russian Pre...\n",
       "1883    DENTON Texas     Amanda Painter sit kitchen ta...\n",
       "5354    like little blind cavefish squirm way rock res...\n",
       "5786    Jon Stewart return television Friday night cra...\n",
       "Name: body_processed, dtype: object"
      ]
     },
     "execution_count": 54,
     "metadata": {},
     "output_type": "execute_result"
    }
   ],
   "source": [
    "x_test[:5]"
   ]
  },
  {
   "cell_type": "code",
   "execution_count": 55,
   "id": "904e5356",
   "metadata": {},
   "outputs": [
    {
     "data": {
      "text/plain": [
       "4040    4\n",
       "1703    2\n",
       "1883    0\n",
       "5354    1\n",
       "5786    3\n",
       "Name: category_num, dtype: int64"
      ]
     },
     "execution_count": 55,
     "metadata": {},
     "output_type": "execute_result"
    }
   ],
   "source": [
    "y_test[:5]"
   ]
  },
  {
   "cell_type": "raw",
   "id": "7f730a51",
   "metadata": {},
   "source": [
    "CRIME ==> 0\n",
    "SCIENCE ==> 1\n",
    "COMEDY ==> 2\n",
    "SPORTS ==> 3\n",
    "POLITICS ==> 4\n",
    "BUSINESS ==> 5"
   ]
  },
  {
   "cell_type": "code",
   "execution_count": 56,
   "id": "21274176",
   "metadata": {},
   "outputs": [
    {
     "data": {
      "text/plain": [
       "array([4, 2, 0, 1, 3], dtype=int64)"
      ]
     },
     "execution_count": 56,
     "metadata": {},
     "output_type": "execute_result"
    }
   ],
   "source": [
    "y_pred[:5]"
   ]
  },
  {
   "cell_type": "code",
   "execution_count": null,
   "id": "fc6db03a",
   "metadata": {},
   "outputs": [],
   "source": []
  }
 ],
 "metadata": {
  "kernelspec": {
   "display_name": "Python 3 (ipykernel)",
   "language": "python",
   "name": "python3"
  },
  "language_info": {
   "codemirror_mode": {
    "name": "ipython",
    "version": 3
   },
   "file_extension": ".py",
   "mimetype": "text/x-python",
   "name": "python",
   "nbconvert_exporter": "python",
   "pygments_lexer": "ipython3",
   "version": "3.7.13"
  }
 },
 "nbformat": 4,
 "nbformat_minor": 5
}
