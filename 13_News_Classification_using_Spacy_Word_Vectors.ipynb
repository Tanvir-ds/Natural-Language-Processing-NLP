{
 "cells": [
  {
   "cell_type": "code",
   "execution_count": 1,
   "id": "fba68e7d",
   "metadata": {},
   "outputs": [],
   "source": [
    "# importing libraries\n",
    "import numpy as np\n",
    "import pandas as pd\n",
    "import matplotlib.pyplot as plt\n",
    "import seaborn as sns"
   ]
  },
  {
   "cell_type": "code",
   "execution_count": 2,
   "id": "64f4ad04",
   "metadata": {},
   "outputs": [
    {
     "data": {
      "text/html": [
       "<div>\n",
       "<style scoped>\n",
       "    .dataframe tbody tr th:only-of-type {\n",
       "        vertical-align: middle;\n",
       "    }\n",
       "\n",
       "    .dataframe tbody tr th {\n",
       "        vertical-align: top;\n",
       "    }\n",
       "\n",
       "    .dataframe thead th {\n",
       "        text-align: right;\n",
       "    }\n",
       "</style>\n",
       "<table border=\"1\" class=\"dataframe\">\n",
       "  <thead>\n",
       "    <tr style=\"text-align: right;\">\n",
       "      <th></th>\n",
       "      <th>Unnamed: 0</th>\n",
       "      <th>title</th>\n",
       "      <th>text</th>\n",
       "      <th>label</th>\n",
       "    </tr>\n",
       "  </thead>\n",
       "  <tbody>\n",
       "    <tr>\n",
       "      <th>0</th>\n",
       "      <td>8476</td>\n",
       "      <td>You Can Smell Hillary’s Fear</td>\n",
       "      <td>Daniel Greenfield, a Shillman Journalism Fello...</td>\n",
       "      <td>FAKE</td>\n",
       "    </tr>\n",
       "    <tr>\n",
       "      <th>1</th>\n",
       "      <td>10294</td>\n",
       "      <td>Watch The Exact Moment Paul Ryan Committed Pol...</td>\n",
       "      <td>Google Pinterest Digg Linkedin Reddit Stumbleu...</td>\n",
       "      <td>FAKE</td>\n",
       "    </tr>\n",
       "    <tr>\n",
       "      <th>2</th>\n",
       "      <td>3608</td>\n",
       "      <td>Kerry to go to Paris in gesture of sympathy</td>\n",
       "      <td>U.S. Secretary of State John F. Kerry said Mon...</td>\n",
       "      <td>REAL</td>\n",
       "    </tr>\n",
       "    <tr>\n",
       "      <th>3</th>\n",
       "      <td>10142</td>\n",
       "      <td>Bernie supporters on Twitter erupt in anger ag...</td>\n",
       "      <td>— Kaydee King (@KaydeeKing) November 9, 2016 T...</td>\n",
       "      <td>FAKE</td>\n",
       "    </tr>\n",
       "    <tr>\n",
       "      <th>4</th>\n",
       "      <td>875</td>\n",
       "      <td>The Battle of New York: Why This Primary Matters</td>\n",
       "      <td>It's primary day in New York and front-runners...</td>\n",
       "      <td>REAL</td>\n",
       "    </tr>\n",
       "    <tr>\n",
       "      <th>...</th>\n",
       "      <td>...</td>\n",
       "      <td>...</td>\n",
       "      <td>...</td>\n",
       "      <td>...</td>\n",
       "    </tr>\n",
       "    <tr>\n",
       "      <th>6330</th>\n",
       "      <td>4490</td>\n",
       "      <td>State Department says it can't find emails fro...</td>\n",
       "      <td>The State Department told the Republican Natio...</td>\n",
       "      <td>REAL</td>\n",
       "    </tr>\n",
       "    <tr>\n",
       "      <th>6331</th>\n",
       "      <td>8062</td>\n",
       "      <td>The ‘P’ in PBS Should Stand for ‘Plutocratic’ ...</td>\n",
       "      <td>The ‘P’ in PBS Should Stand for ‘Plutocratic’ ...</td>\n",
       "      <td>FAKE</td>\n",
       "    </tr>\n",
       "    <tr>\n",
       "      <th>6332</th>\n",
       "      <td>8622</td>\n",
       "      <td>Anti-Trump Protesters Are Tools of the Oligarc...</td>\n",
       "      <td>Anti-Trump Protesters Are Tools of the Oligar...</td>\n",
       "      <td>FAKE</td>\n",
       "    </tr>\n",
       "    <tr>\n",
       "      <th>6333</th>\n",
       "      <td>4021</td>\n",
       "      <td>In Ethiopia, Obama seeks progress on peace, se...</td>\n",
       "      <td>ADDIS ABABA, Ethiopia —President Obama convene...</td>\n",
       "      <td>REAL</td>\n",
       "    </tr>\n",
       "    <tr>\n",
       "      <th>6334</th>\n",
       "      <td>4330</td>\n",
       "      <td>Jeb Bush Is Suddenly Attacking Trump. Here's W...</td>\n",
       "      <td>Jeb Bush Is Suddenly Attacking Trump. Here's W...</td>\n",
       "      <td>REAL</td>\n",
       "    </tr>\n",
       "  </tbody>\n",
       "</table>\n",
       "<p>6335 rows × 4 columns</p>\n",
       "</div>"
      ],
      "text/plain": [
       "      Unnamed: 0                                              title  \\\n",
       "0           8476                       You Can Smell Hillary’s Fear   \n",
       "1          10294  Watch The Exact Moment Paul Ryan Committed Pol...   \n",
       "2           3608        Kerry to go to Paris in gesture of sympathy   \n",
       "3          10142  Bernie supporters on Twitter erupt in anger ag...   \n",
       "4            875   The Battle of New York: Why This Primary Matters   \n",
       "...          ...                                                ...   \n",
       "6330        4490  State Department says it can't find emails fro...   \n",
       "6331        8062  The ‘P’ in PBS Should Stand for ‘Plutocratic’ ...   \n",
       "6332        8622  Anti-Trump Protesters Are Tools of the Oligarc...   \n",
       "6333        4021  In Ethiopia, Obama seeks progress on peace, se...   \n",
       "6334        4330  Jeb Bush Is Suddenly Attacking Trump. Here's W...   \n",
       "\n",
       "                                                   text label  \n",
       "0     Daniel Greenfield, a Shillman Journalism Fello...  FAKE  \n",
       "1     Google Pinterest Digg Linkedin Reddit Stumbleu...  FAKE  \n",
       "2     U.S. Secretary of State John F. Kerry said Mon...  REAL  \n",
       "3     — Kaydee King (@KaydeeKing) November 9, 2016 T...  FAKE  \n",
       "4     It's primary day in New York and front-runners...  REAL  \n",
       "...                                                 ...   ...  \n",
       "6330  The State Department told the Republican Natio...  REAL  \n",
       "6331  The ‘P’ in PBS Should Stand for ‘Plutocratic’ ...  FAKE  \n",
       "6332   Anti-Trump Protesters Are Tools of the Oligar...  FAKE  \n",
       "6333  ADDIS ABABA, Ethiopia —President Obama convene...  REAL  \n",
       "6334  Jeb Bush Is Suddenly Attacking Trump. Here's W...  REAL  \n",
       "\n",
       "[6335 rows x 4 columns]"
      ]
     },
     "execution_count": 2,
     "metadata": {},
     "output_type": "execute_result"
    }
   ],
   "source": [
    "# loading the csv file\n",
    "df = pd.read_csv(\"fake_or_real_news_2.csv\")\n",
    "df"
   ]
  },
  {
   "cell_type": "code",
   "execution_count": 3,
   "id": "c024fa4b",
   "metadata": {},
   "outputs": [
    {
     "data": {
      "text/plain": [
       "REAL    3171\n",
       "FAKE    3164\n",
       "Name: label, dtype: int64"
      ]
     },
     "execution_count": 3,
     "metadata": {},
     "output_type": "execute_result"
    }
   ],
   "source": [
    "df[\"label\"].value_counts()"
   ]
  },
  {
   "cell_type": "code",
   "execution_count": 4,
   "id": "af2b0561",
   "metadata": {},
   "outputs": [
    {
     "data": {
      "text/plain": [
       "<AxesSubplot:xlabel='label', ylabel='count'>"
      ]
     },
     "execution_count": 4,
     "metadata": {},
     "output_type": "execute_result"
    },
    {
     "data": {
      "image/png": "[encoded data removed]",
      "text/plain": [
       "<Figure size 640x480 with 1 Axes>"
      ]
     },
     "metadata": {},
     "output_type": "display_data"
    }
   ],
   "source": [
    "sns.set()\n",
    "sns.countplot(x=\"label\", data=df)"
   ]
  },
  {
   "cell_type": "code",
   "execution_count": 5,
   "id": "c9f1fe89",
   "metadata": {},
   "outputs": [
    {
     "data": {
      "text/plain": [
       "Unnamed: 0    0\n",
       "title         0\n",
       "text          0\n",
       "label         0\n",
       "dtype: int64"
      ]
     },
     "execution_count": 5,
     "metadata": {},
     "output_type": "execute_result"
    }
   ],
   "source": [
    "# Finding missing values\n",
    "df.isnull().sum()"
   ]
  },
  {
   "cell_type": "code",
   "execution_count": 6,
   "id": "17d7c66d",
   "metadata": {},
   "outputs": [
    {
     "data": {
      "text/plain": [
       "0"
      ]
     },
     "execution_count": 6,
     "metadata": {},
     "output_type": "execute_result"
    }
   ],
   "source": [
    "# Finding duplicates value\n",
    "df.duplicated().sum()"
   ]
  },
  {
   "cell_type": "code",
   "execution_count": 7,
   "id": "210f7999",
   "metadata": {},
   "outputs": [
    {
     "data": {
      "text/html": [
       "<div>\n",
       "<style scoped>\n",
       "    .dataframe tbody tr th:only-of-type {\n",
       "        vertical-align: middle;\n",
       "    }\n",
       "\n",
       "    .dataframe tbody tr th {\n",
       "        vertical-align: top;\n",
       "    }\n",
       "\n",
       "    .dataframe thead th {\n",
       "        text-align: right;\n",
       "    }\n",
       "</style>\n",
       "<table border=\"1\" class=\"dataframe\">\n",
       "  <thead>\n",
       "    <tr style=\"text-align: right;\">\n",
       "      <th></th>\n",
       "      <th>Unnamed: 0</th>\n",
       "      <th>title</th>\n",
       "      <th>text</th>\n",
       "      <th>label</th>\n",
       "      <th>category</th>\n",
       "    </tr>\n",
       "  </thead>\n",
       "  <tbody>\n",
       "    <tr>\n",
       "      <th>0</th>\n",
       "      <td>8476</td>\n",
       "      <td>You Can Smell Hillary’s Fear</td>\n",
       "      <td>Daniel Greenfield, a Shillman Journalism Fello...</td>\n",
       "      <td>FAKE</td>\n",
       "      <td>1</td>\n",
       "    </tr>\n",
       "    <tr>\n",
       "      <th>1</th>\n",
       "      <td>10294</td>\n",
       "      <td>Watch The Exact Moment Paul Ryan Committed Pol...</td>\n",
       "      <td>Google Pinterest Digg Linkedin Reddit Stumbleu...</td>\n",
       "      <td>FAKE</td>\n",
       "      <td>1</td>\n",
       "    </tr>\n",
       "    <tr>\n",
       "      <th>2</th>\n",
       "      <td>3608</td>\n",
       "      <td>Kerry to go to Paris in gesture of sympathy</td>\n",
       "      <td>U.S. Secretary of State John F. Kerry said Mon...</td>\n",
       "      <td>REAL</td>\n",
       "      <td>0</td>\n",
       "    </tr>\n",
       "    <tr>\n",
       "      <th>3</th>\n",
       "      <td>10142</td>\n",
       "      <td>Bernie supporters on Twitter erupt in anger ag...</td>\n",
       "      <td>— Kaydee King (@KaydeeKing) November 9, 2016 T...</td>\n",
       "      <td>FAKE</td>\n",
       "      <td>1</td>\n",
       "    </tr>\n",
       "    <tr>\n",
       "      <th>4</th>\n",
       "      <td>875</td>\n",
       "      <td>The Battle of New York: Why This Primary Matters</td>\n",
       "      <td>It's primary day in New York and front-runners...</td>\n",
       "      <td>REAL</td>\n",
       "      <td>0</td>\n",
       "    </tr>\n",
       "    <tr>\n",
       "      <th>...</th>\n",
       "      <td>...</td>\n",
       "      <td>...</td>\n",
       "      <td>...</td>\n",
       "      <td>...</td>\n",
       "      <td>...</td>\n",
       "    </tr>\n",
       "    <tr>\n",
       "      <th>6330</th>\n",
       "      <td>4490</td>\n",
       "      <td>State Department says it can't find emails fro...</td>\n",
       "      <td>The State Department told the Republican Natio...</td>\n",
       "      <td>REAL</td>\n",
       "      <td>0</td>\n",
       "    </tr>\n",
       "    <tr>\n",
       "      <th>6331</th>\n",
       "      <td>8062</td>\n",
       "      <td>The ‘P’ in PBS Should Stand for ‘Plutocratic’ ...</td>\n",
       "      <td>The ‘P’ in PBS Should Stand for ‘Plutocratic’ ...</td>\n",
       "      <td>FAKE</td>\n",
       "      <td>1</td>\n",
       "    </tr>\n",
       "    <tr>\n",
       "      <th>6332</th>\n",
       "      <td>8622</td>\n",
       "      <td>Anti-Trump Protesters Are Tools of the Oligarc...</td>\n",
       "      <td>Anti-Trump Protesters Are Tools of the Oligar...</td>\n",
       "      <td>FAKE</td>\n",
       "      <td>1</td>\n",
       "    </tr>\n",
       "    <tr>\n",
       "      <th>6333</th>\n",
       "      <td>4021</td>\n",
       "      <td>In Ethiopia, Obama seeks progress on peace, se...</td>\n",
       "      <td>ADDIS ABABA, Ethiopia —President Obama convene...</td>\n",
       "      <td>REAL</td>\n",
       "      <td>0</td>\n",
       "    </tr>\n",
       "    <tr>\n",
       "      <th>6334</th>\n",
       "      <td>4330</td>\n",
       "      <td>Jeb Bush Is Suddenly Attacking Trump. Here's W...</td>\n",
       "      <td>Jeb Bush Is Suddenly Attacking Trump. Here's W...</td>\n",
       "      <td>REAL</td>\n",
       "      <td>0</td>\n",
       "    </tr>\n",
       "  </tbody>\n",
       "</table>\n",
       "<p>6335 rows × 5 columns</p>\n",
       "</div>"
      ],
      "text/plain": [
       "      Unnamed: 0                                              title  \\\n",
       "0           8476                       You Can Smell Hillary’s Fear   \n",
       "1          10294  Watch The Exact Moment Paul Ryan Committed Pol...   \n",
       "2           3608        Kerry to go to Paris in gesture of sympathy   \n",
       "3          10142  Bernie supporters on Twitter erupt in anger ag...   \n",
       "4            875   The Battle of New York: Why This Primary Matters   \n",
       "...          ...                                                ...   \n",
       "6330        4490  State Department says it can't find emails fro...   \n",
       "6331        8062  The ‘P’ in PBS Should Stand for ‘Plutocratic’ ...   \n",
       "6332        8622  Anti-Trump Protesters Are Tools of the Oligarc...   \n",
       "6333        4021  In Ethiopia, Obama seeks progress on peace, se...   \n",
       "6334        4330  Jeb Bush Is Suddenly Attacking Trump. Here's W...   \n",
       "\n",
       "                                                   text label  category  \n",
       "0     Daniel Greenfield, a Shillman Journalism Fello...  FAKE         1  \n",
       "1     Google Pinterest Digg Linkedin Reddit Stumbleu...  FAKE         1  \n",
       "2     U.S. Secretary of State John F. Kerry said Mon...  REAL         0  \n",
       "3     — Kaydee King (@KaydeeKing) November 9, 2016 T...  FAKE         1  \n",
       "4     It's primary day in New York and front-runners...  REAL         0  \n",
       "...                                                 ...   ...       ...  \n",
       "6330  The State Department told the Republican Natio...  REAL         0  \n",
       "6331  The ‘P’ in PBS Should Stand for ‘Plutocratic’ ...  FAKE         1  \n",
       "6332   Anti-Trump Protesters Are Tools of the Oligar...  FAKE         1  \n",
       "6333  ADDIS ABABA, Ethiopia —President Obama convene...  REAL         0  \n",
       "6334  Jeb Bush Is Suddenly Attacking Trump. Here's W...  REAL         0  \n",
       "\n",
       "[6335 rows x 5 columns]"
      ]
     },
     "execution_count": 7,
     "metadata": {},
     "output_type": "execute_result"
    }
   ],
   "source": [
    "# Label encoding for \"label\" column\n",
    "df[\"category\"] = df[\"label\"].replace({\"REAL\":0, \"FAKE\":1})\n",
    "df"
   ]
  },
  {
   "cell_type": "markdown",
   "id": "210d178f",
   "metadata": {},
   "source": [
    "# Spacy word vectors"
   ]
  },
  {
   "cell_type": "code",
   "execution_count": 8,
   "id": "78fd653b",
   "metadata": {},
   "outputs": [],
   "source": [
    "import spacy\n",
    "\n",
    "nlp = spacy.load(\"en_core_web_lg\")"
   ]
  },
  {
   "cell_type": "code",
   "execution_count": 9,
   "id": "dfb6ac57",
   "metadata": {},
   "outputs": [
    {
     "data": {
      "text/html": [
       "<div>\n",
       "<style scoped>\n",
       "    .dataframe tbody tr th:only-of-type {\n",
       "        vertical-align: middle;\n",
       "    }\n",
       "\n",
       "    .dataframe tbody tr th {\n",
       "        vertical-align: top;\n",
       "    }\n",
       "\n",
       "    .dataframe thead th {\n",
       "        text-align: right;\n",
       "    }\n",
       "</style>\n",
       "<table border=\"1\" class=\"dataframe\">\n",
       "  <thead>\n",
       "    <tr style=\"text-align: right;\">\n",
       "      <th></th>\n",
       "      <th>Unnamed: 0</th>\n",
       "      <th>title</th>\n",
       "      <th>text</th>\n",
       "      <th>label</th>\n",
       "      <th>category</th>\n",
       "      <th>vetorized_text</th>\n",
       "    </tr>\n",
       "  </thead>\n",
       "  <tbody>\n",
       "    <tr>\n",
       "      <th>0</th>\n",
       "      <td>8476</td>\n",
       "      <td>You Can Smell Hillary’s Fear</td>\n",
       "      <td>Daniel Greenfield, a Shillman Journalism Fello...</td>\n",
       "      <td>FAKE</td>\n",
       "      <td>1</td>\n",
       "      <td>[-1.3751823, 1.3421849, -2.3666484, 0.12908486...</td>\n",
       "    </tr>\n",
       "    <tr>\n",
       "      <th>1</th>\n",
       "      <td>10294</td>\n",
       "      <td>Watch The Exact Moment Paul Ryan Committed Pol...</td>\n",
       "      <td>Google Pinterest Digg Linkedin Reddit Stumbleu...</td>\n",
       "      <td>FAKE</td>\n",
       "      <td>1</td>\n",
       "      <td>[-1.7449774, 0.93961924, -2.024867, 0.42536643...</td>\n",
       "    </tr>\n",
       "    <tr>\n",
       "      <th>2</th>\n",
       "      <td>3608</td>\n",
       "      <td>Kerry to go to Paris in gesture of sympathy</td>\n",
       "      <td>U.S. Secretary of State John F. Kerry said Mon...</td>\n",
       "      <td>REAL</td>\n",
       "      <td>0</td>\n",
       "      <td>[-1.9426425, 1.0062195, -1.9992222, 0.20469022...</td>\n",
       "    </tr>\n",
       "    <tr>\n",
       "      <th>3</th>\n",
       "      <td>10142</td>\n",
       "      <td>Bernie supporters on Twitter erupt in anger ag...</td>\n",
       "      <td>— Kaydee King (@KaydeeKing) November 9, 2016 T...</td>\n",
       "      <td>FAKE</td>\n",
       "      <td>1</td>\n",
       "      <td>[-1.9125352, -0.1481846, -1.1432766, 0.6861217...</td>\n",
       "    </tr>\n",
       "    <tr>\n",
       "      <th>4</th>\n",
       "      <td>875</td>\n",
       "      <td>The Battle of New York: Why This Primary Matters</td>\n",
       "      <td>It's primary day in New York and front-runners...</td>\n",
       "      <td>REAL</td>\n",
       "      <td>0</td>\n",
       "      <td>[-1.8516092, 1.3163909, -2.1726575, 1.2286776,...</td>\n",
       "    </tr>\n",
       "    <tr>\n",
       "      <th>...</th>\n",
       "      <td>...</td>\n",
       "      <td>...</td>\n",
       "      <td>...</td>\n",
       "      <td>...</td>\n",
       "      <td>...</td>\n",
       "      <td>...</td>\n",
       "    </tr>\n",
       "    <tr>\n",
       "      <th>6330</th>\n",
       "      <td>4490</td>\n",
       "      <td>State Department says it can't find emails fro...</td>\n",
       "      <td>The State Department told the Republican Natio...</td>\n",
       "      <td>REAL</td>\n",
       "      <td>0</td>\n",
       "      <td>[-1.556691, 0.60453945, -1.1016529, 0.16134764...</td>\n",
       "    </tr>\n",
       "    <tr>\n",
       "      <th>6331</th>\n",
       "      <td>8062</td>\n",
       "      <td>The ‘P’ in PBS Should Stand for ‘Plutocratic’ ...</td>\n",
       "      <td>The ‘P’ in PBS Should Stand for ‘Plutocratic’ ...</td>\n",
       "      <td>FAKE</td>\n",
       "      <td>1</td>\n",
       "      <td>[-2.206026, -0.12085343, -1.0834901, 0.6655213...</td>\n",
       "    </tr>\n",
       "    <tr>\n",
       "      <th>6332</th>\n",
       "      <td>8622</td>\n",
       "      <td>Anti-Trump Protesters Are Tools of the Oligarc...</td>\n",
       "      <td>Anti-Trump Protesters Are Tools of the Oligar...</td>\n",
       "      <td>FAKE</td>\n",
       "      <td>1</td>\n",
       "      <td>[-2.558132, 0.47698027, -1.8662019, 0.8344748,...</td>\n",
       "    </tr>\n",
       "    <tr>\n",
       "      <th>6333</th>\n",
       "      <td>4021</td>\n",
       "      <td>In Ethiopia, Obama seeks progress on peace, se...</td>\n",
       "      <td>ADDIS ABABA, Ethiopia —President Obama convene...</td>\n",
       "      <td>REAL</td>\n",
       "      <td>0</td>\n",
       "      <td>[-1.8501893, 0.6893597, -1.9594386, 0.41594952...</td>\n",
       "    </tr>\n",
       "    <tr>\n",
       "      <th>6334</th>\n",
       "      <td>4330</td>\n",
       "      <td>Jeb Bush Is Suddenly Attacking Trump. Here's W...</td>\n",
       "      <td>Jeb Bush Is Suddenly Attacking Trump. Here's W...</td>\n",
       "      <td>REAL</td>\n",
       "      <td>0</td>\n",
       "      <td>[-1.4473745, 2.095408, -2.1326072, 0.4212142, ...</td>\n",
       "    </tr>\n",
       "  </tbody>\n",
       "</table>\n",
       "<p>6335 rows × 6 columns</p>\n",
       "</div>"
      ],
      "text/plain": [
       "      Unnamed: 0                                              title  \\\n",
       "0           8476                       You Can Smell Hillary’s Fear   \n",
       "1          10294  Watch The Exact Moment Paul Ryan Committed Pol...   \n",
       "2           3608        Kerry to go to Paris in gesture of sympathy   \n",
       "3          10142  Bernie supporters on Twitter erupt in anger ag...   \n",
       "4            875   The Battle of New York: Why This Primary Matters   \n",
       "...          ...                                                ...   \n",
       "6330        4490  State Department says it can't find emails fro...   \n",
       "6331        8062  The ‘P’ in PBS Should Stand for ‘Plutocratic’ ...   \n",
       "6332        8622  Anti-Trump Protesters Are Tools of the Oligarc...   \n",
       "6333        4021  In Ethiopia, Obama seeks progress on peace, se...   \n",
       "6334        4330  Jeb Bush Is Suddenly Attacking Trump. Here's W...   \n",
       "\n",
       "                                                   text label  category  \\\n",
       "0     Daniel Greenfield, a Shillman Journalism Fello...  FAKE         1   \n",
       "1     Google Pinterest Digg Linkedin Reddit Stumbleu...  FAKE         1   \n",
       "2     U.S. Secretary of State John F. Kerry said Mon...  REAL         0   \n",
       "3     — Kaydee King (@KaydeeKing) November 9, 2016 T...  FAKE         1   \n",
       "4     It's primary day in New York and front-runners...  REAL         0   \n",
       "...                                                 ...   ...       ...   \n",
       "6330  The State Department told the Republican Natio...  REAL         0   \n",
       "6331  The ‘P’ in PBS Should Stand for ‘Plutocratic’ ...  FAKE         1   \n",
       "6332   Anti-Trump Protesters Are Tools of the Oligar...  FAKE         1   \n",
       "6333  ADDIS ABABA, Ethiopia —President Obama convene...  REAL         0   \n",
       "6334  Jeb Bush Is Suddenly Attacking Trump. Here's W...  REAL         0   \n",
       "\n",
       "                                         vetorized_text  \n",
       "0     [-1.3751823, 1.3421849, -2.3666484, 0.12908486...  \n",
       "1     [-1.7449774, 0.93961924, -2.024867, 0.42536643...  \n",
       "2     [-1.9426425, 1.0062195, -1.9992222, 0.20469022...  \n",
       "3     [-1.9125352, -0.1481846, -1.1432766, 0.6861217...  \n",
       "4     [-1.8516092, 1.3163909, -2.1726575, 1.2286776,...  \n",
       "...                                                 ...  \n",
       "6330  [-1.556691, 0.60453945, -1.1016529, 0.16134764...  \n",
       "6331  [-2.206026, -0.12085343, -1.0834901, 0.6655213...  \n",
       "6332  [-2.558132, 0.47698027, -1.8662019, 0.8344748,...  \n",
       "6333  [-1.8501893, 0.6893597, -1.9594386, 0.41594952...  \n",
       "6334  [-1.4473745, 2.095408, -2.1326072, 0.4212142, ...  \n",
       "\n",
       "[6335 rows x 6 columns]"
      ]
     },
     "execution_count": 9,
     "metadata": {},
     "output_type": "execute_result"
    }
   ],
   "source": [
    "df[\"vetorized_text\"] = df[\"text\"].apply(lambda x: nlp(x).vector)\n",
    "df"
   ]
  },
  {
   "cell_type": "code",
   "execution_count": 14,
   "id": "3e413cf2",
   "metadata": {},
   "outputs": [],
   "source": [
    "# splitting the datasets into training and test sets\n",
    "from sklearn.model_selection import train_test_split\n",
    "x_train, x_test, y_train, y_test = train_test_split(df[\"vetorized_text\"].values, df[\"category\"], test_size=0.20, stratify=df['category'], random_state=2023)"
   ]
  },
  {
   "cell_type": "code",
   "execution_count": 15,
   "id": "45a86737",
   "metadata": {},
   "outputs": [
    {
     "name": "stdout",
     "output_type": "stream",
     "text": [
      "(6335,) (5068,) (1267,)\n"
     ]
    }
   ],
   "source": [
    "print(df[\"vetorized_text\"].shape, x_train.shape, x_test.shape)"
   ]
  },
  {
   "cell_type": "code",
   "execution_count": 17,
   "id": "043f10e1",
   "metadata": {
    "scrolled": true
   },
   "outputs": [
    {
     "data": {
      "text/plain": [
       "array([array([-0.40887675,  0.37702817, -1.68984   ,  0.40287876,  3.6050832 ,\n",
       "              -0.05200028, -0.22040941,  2.5375674 , -0.19279009,  0.09304537,\n",
       "               3.1457405 ,  1.5905595 , -2.645005  ,  1.7855107 ,  0.8074945 ,\n",
       "               1.218203  ,  0.7339727 , -0.2899439 , -0.8765857 , -1.0831043 ,\n",
       "               0.42351267, -0.06655625,  0.32865864,  0.01634631, -0.27362874,\n",
       "              -0.8342576 , -2.075505  ,  0.1576419 , -0.22068979,  0.42866117,\n",
       "               0.74713683, -0.23137566,  0.01063291, -1.3072405 , -1.3630104 ,\n",
       "              -0.78280485, -0.14738768,  0.22240268,  0.39264038, -0.13677683,\n",
       "               1.1670957 , -0.2096186 ,  0.0760613 ,  0.5704469 , -0.85799384,\n",
       "               1.0201476 ,  0.12683043, -1.8242661 ,  0.16997062,  0.7612945 ,\n",
       "              -0.5450102 ,  0.48913628, -0.35593948, -3.3440185 , -0.73514867,\n",
       "               0.71678036, -0.6594896 , -0.23123215,  0.6157619 ,  0.13809486,\n",
       "              -0.8915105 , -0.43289164,  0.05730945,  1.0288286 ,  1.5966005 ,\n",
       "               1.2055005 , -2.1647277 , -2.4491785 ,  0.48603827,  1.7140324 ,\n",
       "              -1.0242275 , -1.2185787 , -1.2347127 ,  0.50123966,  0.3029844 ,\n",
       "               1.1476656 , -0.72418165,  2.1422133 , -2.3529701 , -0.18745658,\n",
       "              -2.4912395 , -0.85041296,  0.25909978,  0.12407766,  1.5412719 ,\n",
       "               0.17379616, -1.2804056 , -1.1906111 ,  0.39285007, -0.98433805,\n",
       "              -0.17805995,  1.0517149 ,  0.24651091, -2.0727193 ,  0.30817848,\n",
       "              -0.06383048,  0.5494234 , -0.2562795 ,  1.6025432 ,  0.945876  ,\n",
       "               1.5279284 ,  1.6462082 ,  2.2632358 ,  2.305324  , -0.0492468 ,\n",
       "               1.8407118 , -0.05407994, -1.632761  , -0.16091967, -3.3725178 ,\n",
       "               1.0170655 ,  0.69453907, -0.5466522 ,  0.79818517,  1.2714907 ,\n",
       "               0.52461034, -0.64888924, -0.27490053,  1.0817927 , -1.1903225 ,\n",
       "              -0.7090342 , -2.2654388 ,  1.1837779 ,  0.9359094 ,  0.26014903,\n",
       "              -2.0178485 ,  1.4041579 , -1.9850549 ,  1.8915715 , -2.143362  ,\n",
       "              -2.6382463 ,  0.5022196 ,  2.9906409 , -0.16514118, -0.52583915,\n",
       "              -0.4151541 , -0.86071366, -0.0850405 ,  1.6581013 , -1.0299774 ,\n",
       "              -1.4815063 , -0.522642  , -0.5055548 ,  1.3349622 ,  0.6205747 ,\n",
       "               1.4913164 , -2.788299  ,  0.42068225,  1.2646428 ,  1.279681  ,\n",
       "               0.19314751,  2.3047237 ,  0.42349645,  0.5911196 , -0.75508887,\n",
       "              -0.21205875,  1.6994991 , -0.71516305, -1.142374  , -1.3083299 ,\n",
       "              -0.7311887 , -1.720595  , -0.36115906,  1.799886  , -2.1504653 ,\n",
       "              -1.0371473 , -2.6963995 , -0.15004328, -0.04264487, -0.26943642,\n",
       "               0.33461872, -0.08299035,  1.2747701 ,  1.0925819 ,  1.1200494 ,\n",
       "               0.3800342 , -0.4122192 , -0.9729499 , -1.7007097 , -1.9002342 ,\n",
       "              -0.2595599 ,  0.26441124,  0.05199729, -1.2420433 , -1.0355839 ,\n",
       "               0.8013887 , -1.5450505 , -0.5604966 ,  0.6751174 ,  0.67763305,\n",
       "               0.4649714 , -1.0041634 , -0.1165911 , -1.6440158 ,  0.25261068,\n",
       "               0.23870568, -1.9394923 , -0.3749128 , -0.7552073 ,  0.551576  ,\n",
       "              -1.4611385 , -1.2976085 , -0.33546582, -2.1348875 ,  1.8567618 ,\n",
       "              -0.4799277 , -1.9859033 ,  1.9369582 , -0.8896337 , -0.44815415,\n",
       "               1.194499  ,  0.53289694, -0.9588097 ,  1.1382571 ,  0.72339475,\n",
       "               1.8425168 ,  0.5126942 , -1.589979  , -0.54463816, -0.32411405,\n",
       "              -1.2842562 ,  0.80001885, -0.75510776, -0.10967758, -1.5896606 ,\n",
       "              -1.3301706 ,  0.29029483,  0.60293746,  0.58358246,  0.5692174 ,\n",
       "               1.8484273 , -1.0453892 , -0.6376367 ,  0.87139666,  1.1779927 ,\n",
       "               0.7526399 , -1.1757622 ,  0.29467842, -0.01433923, -0.5460192 ,\n",
       "              -0.34494832,  0.01511461,  1.061248  ,  0.06715764, -1.383116  ,\n",
       "               1.7260042 , -1.4539617 , -0.46441406, -0.4201424 ,  0.5388107 ,\n",
       "               0.83359283, -1.2104001 , -2.8574672 , -1.2015653 ,  0.09413813,\n",
       "              -1.019441  ,  2.204499  , -0.56309533,  0.19115305,  1.3483884 ,\n",
       "               0.5150075 ,  3.0817218 ,  2.4907277 ,  1.6241874 ,  1.4939418 ,\n",
       "              -1.1391429 , -0.46678957,  1.2165934 , -1.9333714 , -0.9768599 ,\n",
       "               0.0782856 , -0.39008152,  1.013929  , -1.4343692 ,  0.8673368 ,\n",
       "              -0.36476287,  0.70353514, -0.9481396 , -1.1041203 ,  1.4965875 ,\n",
       "               0.7807014 ,  0.188263  , -0.44167647, -0.21116138,  1.2008449 ,\n",
       "              -0.37086776, -0.65422994,  1.1052858 , -1.3577557 , -0.3759581 ,\n",
       "              -0.46954697, -0.51106167, -0.6478016 ,  0.6354166 , -0.28068832,\n",
       "               1.4900643 ,  0.8031103 , -0.8863633 , -2.363007  ,  0.0318155 ],\n",
       "             dtype=float32)                                                    ,\n",
       "       array([-2.5802662e+00,  5.7145655e-01, -1.7042542e+00,  6.0273224e-01,\n",
       "               4.9211526e+00,  1.7839491e-01,  4.7059187e-01,  4.0734472e+00,\n",
       "               6.0786122e-01, -7.0696360e-01,  4.9850831e+00,  1.4602213e+00,\n",
       "              -2.7173657e+00,  1.1987730e+00,  3.4486669e-01,  2.4600534e+00,\n",
       "               7.6102579e-01,  2.1551311e-01, -1.1083200e+00, -1.0246781e+00,\n",
       "               1.2273097e+00, -9.2701298e-01, -1.0530720e+00,  4.8249838e-01,\n",
       "               6.5921646e-01, -1.5943124e+00, -2.9744802e+00, -9.7601575e-01,\n",
       "              -4.6578880e-02,  3.2972100e-01,  6.6412860e-01,  9.5129266e-02,\n",
       "              -5.5321109e-01, -1.3568556e+00, -3.2153666e+00, -9.0913922e-01,\n",
       "              -1.0864257e+00,  8.8405865e-01,  5.0110692e-01, -5.0978327e-01,\n",
       "              -2.3218177e-01,  3.5841625e-02, -2.4127418e-01,  5.7839245e-01,\n",
       "              -1.1733344e+00,  6.9339609e-01, -1.2540726e-02, -2.1962535e+00,\n",
       "              -7.1071714e-01,  1.8315184e+00, -1.4638442e+00,  1.7792650e+00,\n",
       "               2.4463473e-01, -4.5491734e+00, -4.7493908e-01,  4.8736542e-01,\n",
       "               2.2512230e-01,  8.3089367e-02,  1.1740105e+00, -4.8210752e-01,\n",
       "              -1.7906287e-01, -1.3335497e+00,  1.3428952e-01, -7.1141297e-01,\n",
       "               2.7727048e+00,  1.3183572e+00, -2.5469720e+00, -2.6271906e+00,\n",
       "               1.5203567e+00,  2.1445005e+00, -1.3053676e-01, -7.8059745e-01,\n",
       "              -2.1326652e+00, -2.3530351e-01, -3.6076033e-01,  1.5428125e+00,\n",
       "              -2.7442253e+00,  3.3309772e+00, -3.3795094e+00, -4.4550595e-01,\n",
       "              -4.2311425e+00, -5.0661981e-01,  5.4300821e-01,  1.0069455e+00,\n",
       "               3.2540333e+00,  1.5925919e-01, -2.6523581e+00, -3.3698967e+00,\n",
       "               9.6172625e-01, -1.2137905e+00, -1.4364542e+00, -7.3008543e-01,\n",
       "               2.0930676e+00, -3.0353425e+00,  1.3492731e+00, -1.0036491e+00,\n",
       "               1.1743050e+00, -9.3878347e-01,  1.1465821e+00,  1.7756299e+00,\n",
       "               2.0019481e+00,  1.2563090e+00,  2.6595943e+00,  2.9942427e+00,\n",
       "              -7.4896359e-01,  3.2166960e+00,  9.0975636e-01, -2.3269670e+00,\n",
       "               1.5142590e-01, -4.0239482e+00,  5.7168269e-01,  1.2217278e+00,\n",
       "              -1.5918127e+00,  9.9180049e-01,  1.7271712e+00, -1.6572689e-01,\n",
       "              -1.1106968e+00,  9.6294940e-02,  1.1816586e-01, -7.0351422e-01,\n",
       "              -3.5673317e-03, -3.5382729e+00,  9.9038160e-01,  1.5254757e+00,\n",
       "              -1.0365939e+00, -3.2369528e+00,  1.5503061e+00, -1.9443082e+00,\n",
       "               2.5379877e+00, -1.2691026e+00, -2.6976078e+00, -1.9166917e-01,\n",
       "               3.8420200e+00, -7.6293933e-01, -3.2463241e-01,  1.2054781e+00,\n",
       "              -1.3822618e+00, -2.5029886e-01,  2.7371602e+00, -2.1706214e+00,\n",
       "              -2.0379410e+00, -9.5677882e-01, -2.0177047e-01,  1.7294070e+00,\n",
       "               1.6345760e+00,  9.9615377e-01, -3.5421495e+00, -3.6753092e-02,\n",
       "               1.4381226e+00,  1.2333812e+00,  7.7231389e-01,  2.0765903e+00,\n",
       "              -6.5512010e-03,  1.6149201e+00, -1.4316361e+00,  8.9126945e-01,\n",
       "               2.6998675e+00, -6.1095005e-01, -2.4140034e+00, -1.1029799e+00,\n",
       "              -3.7615094e-01, -2.9051199e+00,  2.5225851e-01,  1.8535157e+00,\n",
       "              -2.1714940e+00, -1.7360283e+00, -3.4316676e+00,  1.6227672e+00,\n",
       "               6.2696673e-02,  7.6905620e-01,  1.2183313e+00,  9.4546683e-02,\n",
       "               2.2790487e+00,  5.5543637e-01,  2.0542920e+00,  2.3585570e-01,\n",
       "              -4.6354827e-02, -7.8855377e-01, -2.5710773e+00, -1.3642385e+00,\n",
       "              -1.4543109e+00, -1.4893748e-02,  6.5412694e-01,  4.5890856e-01,\n",
       "              -7.8973663e-01,  5.9786487e-01, -1.7331526e+00,  4.8329008e-01,\n",
       "               8.9932436e-01,  1.2077461e+00,  3.1271583e-01, -1.8655865e+00,\n",
       "               2.1648870e-01, -1.1806952e+00,  3.9452112e-01,  6.6062558e-01,\n",
       "              -2.5957704e+00, -6.0201871e-01, -7.4514166e-02,  1.1190826e+00,\n",
       "              -5.8130562e-01, -1.4854164e+00, -1.4583574e-01, -2.9095416e+00,\n",
       "               3.3806295e+00,  1.0000756e+00, -2.8211045e+00,  1.0826540e+00,\n",
       "              -9.1307485e-01, -2.4045372e-01,  8.6448783e-01,  1.1051465e+00,\n",
       "              -1.5175483e+00,  1.8643163e+00,  1.4782305e+00,  2.2265053e+00,\n",
       "               5.6129271e-01, -1.5046227e+00, -1.9649674e-01, -1.7940159e-01,\n",
       "              -2.5448780e+00,  1.2817218e+00, -2.9957223e-01,  8.8105690e-01,\n",
       "              -2.9280488e+00, -9.5426261e-01,  5.2423292e-01,  2.6366565e+00,\n",
       "               1.2732303e+00, -1.1618384e-01,  2.9128711e+00, -2.2664959e+00,\n",
       "              -1.0137686e+00,  2.0357790e+00,  1.8470167e+00,  1.7064652e+00,\n",
       "              -1.7922226e+00,  7.0973724e-01, -1.4815193e+00, -5.1917273e-01,\n",
       "              -2.9748338e-01,  4.6491948e-01,  1.7407463e+00,  7.7959530e-02,\n",
       "              -1.7426848e+00,  1.6191031e+00, -2.4299130e+00, -9.9000052e-02,\n",
       "              -8.9916646e-02,  2.6129856e+00,  1.4650862e+00, -2.9799268e+00,\n",
       "              -4.7712464e+00, -2.0583552e-01,  3.3935118e-01, -1.9692078e+00,\n",
       "               2.1403694e+00, -7.7739722e-01,  1.9757791e-01,  9.9632961e-01,\n",
       "              -2.1372648e-01,  4.1312456e+00,  2.8151009e+00,  1.7440023e+00,\n",
       "               1.4546751e+00, -1.1158845e+00,  8.7862864e-02,  2.2010739e+00,\n",
       "              -2.8943553e+00,  2.9729009e-01,  4.9456865e-01,  1.5312719e-01,\n",
       "               1.2632059e-01, -2.2479119e+00,  7.9277116e-01,  3.6995012e-02,\n",
       "               1.6526555e+00, -1.3212781e+00, -7.7315116e-01,  2.0585735e+00,\n",
       "               1.3744386e+00, -1.7372353e-01,  1.0107174e+00,  1.3292431e+00,\n",
       "               2.5300384e+00, -7.7311504e-01, -4.6529067e-01,  1.1531304e+00,\n",
       "              -1.0338244e+00,  5.6054395e-01,  7.3908854e-01, -6.4225996e-01,\n",
       "              -7.9053044e-01,  5.9546530e-01, -1.4972796e+00,  1.8806591e+00,\n",
       "               9.1165310e-01, -1.2939266e+00, -2.0459073e+00,  9.1639590e-01],\n",
       "             dtype=float32)                                                   ,\n",
       "       array([-1.7950878 ,  0.8105019 , -2.38934   ,  0.23698978,  4.0069413 ,\n",
       "               0.99310374,  0.5975189 ,  4.1545744 , -1.2979352 , -1.3639932 ,\n",
       "               6.478748  ,  1.9041643 , -3.691362  ,  1.4182049 ,  0.80015546,\n",
       "               1.8489816 ,  1.1382704 , -0.21150158, -2.0323184 , -2.1828597 ,\n",
       "               1.1864537 , -0.88462985, -1.9499726 , -0.6819592 , -0.29333058,\n",
       "              -1.6834412 , -2.1607208 , -0.86574686, -1.1870313 ,  1.4941155 ,\n",
       "               0.95588815, -0.5439431 , -1.1921757 , -2.0987897 , -2.4136953 ,\n",
       "              -0.5462536 , -0.50593615,  0.6570028 ,  1.3632826 ,  0.98387194,\n",
       "               0.5688837 ,  0.5209227 , -0.0769131 ,  0.2559232 , -1.8493903 ,\n",
       "               2.1287782 ,  1.2549169 , -2.8028386 , -0.96515757,  1.605991  ,\n",
       "              -1.340428  ,  2.1861417 ,  0.26500145, -5.2045774 , -1.1391902 ,\n",
       "               0.6570604 , -0.24821782,  1.6447798 ,  1.0580657 , -0.5130078 ,\n",
       "               1.1787758 , -0.63808185,  0.1141041 , -1.7467471 ,  2.1780562 ,\n",
       "               1.8556587 , -2.6650865 , -3.9217372 ,  1.0189283 ,  2.5458508 ,\n",
       "              -0.30000734, -0.40805584, -2.1570654 ,  0.13744597, -0.8160979 ,\n",
       "               1.7610242 , -3.458743  ,  1.9080001 , -2.998233  ,  0.27336758,\n",
       "              -4.525092  , -0.11244927,  1.488129  ,  1.1248707 ,  2.7744827 ,\n",
       "               0.06683706, -2.4608927 , -3.2895904 ,  1.9331    , -0.6588628 ,\n",
       "              -0.83348274, -0.07193738,  1.7514074 , -4.2062025 ,  0.47027507,\n",
       "              -1.5103253 ,  1.0914897 , -1.2567661 ,  0.56962883,  1.6018289 ,\n",
       "               2.7660797 ,  1.7580872 ,  2.142003  ,  2.7749524 , -0.7189351 ,\n",
       "               4.5770793 ,  0.33267927, -2.6789334 , -0.33424914, -2.9985864 ,\n",
       "               1.8102211 ,  0.32406282, -1.6307231 ,  0.67238826,  0.7523209 ,\n",
       "               1.2631617 , -1.3282226 , -0.98532206,  0.36711282, -1.828431  ,\n",
       "              -1.4763652 , -2.4902315 ,  0.19027011,  0.4938729 , -1.4606309 ,\n",
       "              -3.5532532 ,  1.0498749 , -2.4049196 ,  2.5443335 , -1.081666  ,\n",
       "              -2.6451578 , -0.5295656 ,  4.054016  , -0.22701013,  0.11689357,\n",
       "               0.804704  , -2.4041066 , -0.99491197,  3.0772214 , -2.1868143 ,\n",
       "              -1.6880597 , -0.90117186,  0.589058  ,  1.5936073 ,  0.89065903,\n",
       "               0.06650691, -3.257813  , -0.44270918,  0.5029098 ,  1.1928139 ,\n",
       "              -0.51423204,  2.5996938 , -0.05421733,  1.6973106 , -1.1838195 ,\n",
       "               1.157005  ,  3.1400414 , -0.13102123, -2.125459  , -1.6104052 ,\n",
       "              -0.97618824, -1.8281431 , -0.35526612,  2.019233  , -2.4751978 ,\n",
       "              -2.2000206 , -3.76221   ,  1.2084302 ,  0.21738315, -0.08523122,\n",
       "               1.124539  , -0.0637255 ,  2.7007704 ,  0.58376586,  1.7897625 ,\n",
       "               0.544344  , -0.06257909,  0.24503978, -2.5340564 , -1.9177889 ,\n",
       "              -1.1416203 ,  0.12862146,  1.9734638 , -1.2417425 , -1.5531641 ,\n",
       "               1.0159332 , -1.8421096 , -0.96154225,  1.0348072 ,  2.6527877 ,\n",
       "              -1.0114493 , -1.6674875 , -0.06545358, -1.4170933 , -0.01667621,\n",
       "               0.6498022 , -3.714025  , -0.45048434,  0.411127  ,  0.399363  ,\n",
       "              -1.3489606 , -1.1694497 , -0.61485976, -1.7517141 ,  3.1758404 ,\n",
       "               1.1261766 , -4.0273404 ,  1.1933794 ,  0.37844884, -0.45431712,\n",
       "               1.8484635 ,  0.38747683, -1.0742809 ,  1.6111069 ,  0.64386994,\n",
       "               2.8477333 ,  0.26291436, -3.1090357 , -0.5338386 ,  0.6694883 ,\n",
       "              -2.2924008 ,  1.630801  ,  0.01824539,  0.27706966, -0.97703725,\n",
       "              -1.1008421 ,  0.33045366,  2.610707  ,  2.1780868 ,  0.7091156 ,\n",
       "               1.843871  , -2.228936  , -0.21579067,  1.3494645 ,  2.0785277 ,\n",
       "               1.4187291 , -0.7743134 ,  1.2443558 ,  0.19991979, -0.10611229,\n",
       "              -1.4179623 , -0.13009942,  0.9291512 ,  0.50063306, -1.0339789 ,\n",
       "               1.332777  , -3.0839322 ,  0.88934046,  0.58508414,  2.8152578 ,\n",
       "               0.16890106, -1.7975924 , -4.699095  ,  0.02241148,  1.1735185 ,\n",
       "              -3.2889302 ,  1.7695334 , -0.07805759,  0.13322052,  1.1229972 ,\n",
       "              -0.6963552 ,  5.0711064 ,  2.8473296 ,  2.5745063 ,  2.393912  ,\n",
       "              -0.2501262 ,  0.19830628,  2.2858791 , -3.3058176 , -0.30170828,\n",
       "               1.0937852 , -0.8260053 ,  0.7156042 , -1.6152471 ,  0.91636735,\n",
       "              -1.0843594 ,  1.8700352 , -1.9792582 , -1.4089395 ,  2.2141716 ,\n",
       "               1.5219448 ,  0.0389483 ,  1.1574659 ,  0.9313184 ,  2.568142  ,\n",
       "              -0.94341254,  0.6003871 ,  1.5618382 , -0.958563  ,  0.23917414,\n",
       "               0.5391594 , -1.0799783 , -0.33013624, -0.56111276, -0.9185383 ,\n",
       "               0.76709104,  0.37299883, -1.1849973 , -2.734741  ,  1.2729874 ],\n",
       "             dtype=float32)                                                    ,\n",
       "       ...,\n",
       "       array([-1.6814642 ,  0.15683609, -1.3219042 ,  0.92427963,  4.7701707 ,\n",
       "               0.55041605,  0.35278276,  2.777258  ,  0.7905887 , -0.9025602 ,\n",
       "               4.298179  ,  1.3533754 , -2.6735563 ,  0.9520931 ,  0.5369289 ,\n",
       "               2.1567278 ,  0.62608135,  0.4998415 , -0.90650755, -1.2443042 ,\n",
       "               1.3317994 , -0.83821094, -0.7750963 ,  0.5297547 ,  0.36144716,\n",
       "              -0.9542773 , -2.435241  , -1.405824  , -0.04982678,  0.4637502 ,\n",
       "               0.7926497 , -0.08207972, -0.59727436, -1.5381826 , -2.5370834 ,\n",
       "              -1.3052806 , -1.0465328 ,  0.82828367,  0.10922676, -0.08912624,\n",
       "               0.37588918, -0.10469737, -0.616465  ,  0.40107548, -1.4471586 ,\n",
       "               0.6568777 , -0.3103424 , -2.0647504 , -0.5362506 ,  0.876392  ,\n",
       "              -1.3088976 ,  1.5493597 ,  0.02504454, -4.153968  ,  0.04430571,\n",
       "               0.88212603, -0.44780785,  0.15018009,  0.7229102 ,  0.175289  ,\n",
       "              -0.21695541, -0.88865507,  0.08291808, -0.61231786,  2.7111773 ,\n",
       "               0.90321815, -2.323931  , -1.9450077 ,  1.1538675 ,  1.4337759 ,\n",
       "              -0.42702135, -0.62316304, -2.0600078 ,  0.14776178, -0.04960386,\n",
       "               1.0885143 , -1.9558759 ,  2.2017515 , -2.9014144 ,  0.54623145,\n",
       "              -3.4293838 , -0.43380967, -0.01379245,  1.153435  ,  2.7852826 ,\n",
       "               0.39516655, -1.6598151 , -2.7882228 ,  0.29384673, -1.1261463 ,\n",
       "              -1.1007342 , -0.47063994,  1.5470469 , -2.4112468 ,  0.6709853 ,\n",
       "              -0.78639233,  1.2800981 , -1.0550281 ,  0.5978087 ,  1.5806202 ,\n",
       "               1.9427761 ,  0.9304229 ,  2.540284  ,  3.0083551 , -0.3419945 ,\n",
       "               2.601098  ,  0.9301061 , -1.6494833 ,  0.46337393, -3.3811095 ,\n",
       "               0.9035067 ,  1.0237191 , -1.7895467 ,  0.09625717,  1.3681743 ,\n",
       "               0.10746013, -1.0586404 , -0.24091563, -0.2210376 , -0.89694643,\n",
       "               0.21477248, -3.1481216 ,  1.612256  ,  0.948469  , -0.9993806 ,\n",
       "              -2.6749308 ,  1.5303409 , -1.9599    ,  2.1120687 , -1.2402083 ,\n",
       "              -2.985536  ,  0.09998633,  3.2943754 , -0.37589508, -0.0085222 ,\n",
       "               0.8952905 , -1.6388688 , -0.62779105,  2.2397568 , -1.7212816 ,\n",
       "              -1.002397  , -1.1687461 , -0.7309846 ,  1.4377854 ,  1.5880499 ,\n",
       "               1.2498565 , -3.648507  , -0.07301579,  1.2187632 ,  0.8564598 ,\n",
       "               0.45918483,  1.8017471 , -0.2990823 ,  1.6328977 , -1.1649327 ,\n",
       "               0.745448  ,  2.1643772 , -0.25160876, -1.9028151 , -0.88580227,\n",
       "               0.11964751, -1.6537975 , -0.12253956,  2.1199045 , -1.684481  ,\n",
       "              -1.9938619 , -2.9749868 ,  0.71517134,  0.3640312 ,  0.9922411 ,\n",
       "               0.87705225,  0.29402328,  1.9160432 , -0.48804936,  0.5476822 ,\n",
       "               0.58441424,  0.2824279 , -0.5946715 , -2.0869021 , -1.3177785 ,\n",
       "              -1.1411799 ,  0.34131852,  0.29734677,  0.28121874, -0.29680228,\n",
       "               0.92460877, -1.2116036 ,  0.48168224,  1.0292696 ,  0.4942961 ,\n",
       "               0.31411287, -1.7875047 ,  0.33920684, -1.5275    ,  0.6149159 ,\n",
       "               0.3446393 , -2.5303655 , -0.23331611, -0.09342696,  0.73398346,\n",
       "              -0.69409406, -1.3174572 ,  0.4086823 , -2.6869879 ,  3.2677903 ,\n",
       "               0.32441288, -3.0240438 ,  0.98336756, -1.300259  , -0.03415332,\n",
       "               0.9911143 ,  0.7602292 , -1.79791   ,  1.2740651 ,  1.0982145 ,\n",
       "               1.7080286 ,  0.23244779, -1.6405365 ,  0.0314633 , -0.15483657,\n",
       "              -1.743732  ,  1.3136806 , -0.4814785 ,  0.29383808, -2.5890927 ,\n",
       "              -0.93068254,  0.14064404,  2.2873662 ,  0.9297311 , -0.342613  ,\n",
       "               2.5171354 , -2.055914  , -0.7110822 ,  1.9917951 ,  1.2855937 ,\n",
       "               1.3463178 , -1.4378024 ,  0.942193  , -0.69762003, -0.19074328,\n",
       "               0.09147134, -0.28239694,  1.650696  , -0.72542447, -2.0429094 ,\n",
       "               1.5376589 , -2.3529804 , -0.00925539, -0.2851934 ,  2.2462828 ,\n",
       "               1.5702486 , -3.0588398 , -4.036521  , -0.06685651,  0.32021558,\n",
       "              -1.6963533 ,  1.5007588 , -1.2642003 ,  0.54462224,  1.1494124 ,\n",
       "              -0.04206328,  3.6563196 ,  2.9146557 ,  1.1650463 ,  1.9792336 ,\n",
       "              -1.0119092 , -0.49200237,  2.1946905 , -2.2990367 , -0.2673989 ,\n",
       "              -0.08380186,  0.45965192,  0.3464703 , -1.6759753 ,  1.201132  ,\n",
       "               0.11709049,  1.4507217 , -2.3276212 , -0.18030912,  1.7925388 ,\n",
       "               1.7812229 , -0.14821681,  0.794561  ,  0.6119812 ,  1.3292865 ,\n",
       "              -0.644238  ,  0.07460698,  0.48466605, -0.42334104,  0.37792954,\n",
       "               0.76517653, -0.29322553, -0.3021352 ,  0.32166043, -1.2396744 ,\n",
       "               1.843885  ,  0.4900383 , -1.5365556 , -1.2449412 ,  0.54306644],\n",
       "             dtype=float32)                                                    ,\n",
       "       array([-1.72269773e+00,  3.78766209e-01, -2.29413414e+00,  9.93343174e-01,\n",
       "               5.02635384e+00,  9.96226311e-01,  6.39578253e-02,  3.81253314e+00,\n",
       "              -1.22411072e-01, -9.43279505e-01,  5.73394394e+00,  1.64566267e+00,\n",
       "              -3.63993073e+00,  5.38248360e-01,  4.46748316e-01,  2.40045667e+00,\n",
       "               9.68092799e-01,  4.14011896e-01, -1.31433725e+00, -1.99504161e+00,\n",
       "               1.81574237e+00, -6.76711559e-01, -1.52831089e+00, -7.17548311e-01,\n",
       "               6.53580666e-01, -1.69997120e+00, -2.95983028e+00, -1.17388463e+00,\n",
       "              -1.02437079e-01,  2.17194870e-01,  1.51384640e+00, -3.75099212e-01,\n",
       "              -8.80175948e-01, -1.64770949e+00, -2.28528666e+00, -1.60581839e+00,\n",
       "              -7.20980704e-01,  1.61859465e+00,  2.79306978e-01,  1.49973616e-01,\n",
       "               5.03875852e-01,  1.62068769e-01, -1.32329941e-01,  3.39125484e-01,\n",
       "              -1.30590749e+00,  6.16812408e-01,  4.48947877e-01, -1.84175074e+00,\n",
       "              -1.00675538e-01,  2.21986246e+00, -1.03267312e+00,  1.57047021e+00,\n",
       "               2.28781343e-01, -5.14536619e+00, -4.34239745e-01,  6.62209630e-01,\n",
       "               4.96850729e-01,  9.70708072e-01,  9.01482046e-01,  4.01421487e-01,\n",
       "               1.00628227e-01, -7.89296627e-01,  6.03886187e-01, -9.19287562e-01,\n",
       "               3.45833349e+00,  1.27572799e+00, -2.50755882e+00, -2.11965060e+00,\n",
       "               5.18609345e-01,  1.53039479e+00,  5.36256693e-02, -6.80518925e-01,\n",
       "              -1.83922470e+00,  6.12213910e-01, -3.05221140e-01,  1.66417444e+00,\n",
       "              -2.68492222e+00,  2.07651734e+00, -2.32018685e+00,  4.07319069e-02,\n",
       "              -4.24380779e+00, -4.06703860e-01,  1.06472838e+00,  2.11096501e+00,\n",
       "               2.68438888e+00, -3.62605035e-01, -2.04728866e+00, -3.66828990e+00,\n",
       "               6.25470400e-01, -1.21319163e+00, -3.37833613e-01,  4.97645468e-01,\n",
       "               1.37436855e+00, -3.27859712e+00,  5.56404829e-01, -9.58684623e-01,\n",
       "               8.30043614e-01, -1.24912727e+00,  9.19204533e-01,  1.80916071e+00,\n",
       "               2.74081635e+00,  9.63952243e-01,  2.45822787e+00,  2.62113357e+00,\n",
       "              -2.65197545e-01,  4.19073009e+00,  4.56819683e-01, -2.37656927e+00,\n",
       "              -6.99369848e-01, -3.83626008e+00,  1.45738411e+00,  6.94020092e-01,\n",
       "              -1.96174574e+00, -1.54684365e-01,  1.24567044e+00,  1.13646829e+00,\n",
       "              -6.32571161e-01, -1.16423106e+00,  1.61413327e-01, -1.13640547e+00,\n",
       "              -4.02633518e-01, -2.82100654e+00,  4.19705480e-01,  5.93517125e-01,\n",
       "              -9.55376148e-01, -3.61720848e+00,  1.08959830e+00, -2.54605913e+00,\n",
       "               2.07919025e+00, -1.11707592e+00, -2.70206165e+00, -1.95554003e-01,\n",
       "               4.49421358e+00, -1.18082345e-01, -6.13541715e-02,  3.92848611e-01,\n",
       "              -2.46600962e+00,  1.64268480e-03,  2.11793303e+00, -2.34131312e+00,\n",
       "              -1.71348083e+00, -1.30396008e+00,  2.45592549e-01,  1.31516230e+00,\n",
       "               1.04846549e+00,  1.36906481e+00, -4.12091637e+00, -3.14707100e-01,\n",
       "               1.20372009e+00,  1.15756536e+00, -1.00800478e+00,  2.24049234e+00,\n",
       "              -1.93279907e-01,  1.74895620e+00, -1.51503956e+00,  9.64440942e-01,\n",
       "               2.40279102e+00, -8.74529541e-01, -1.43273675e+00, -1.44047308e+00,\n",
       "              -8.67531955e-01, -2.73864937e+00, -3.00849944e-01,  2.04837823e+00,\n",
       "              -2.83226633e+00, -1.40620112e+00, -3.47512794e+00,  1.33347297e+00,\n",
       "               5.76174855e-01, -2.14393765e-01,  2.97836125e-01,  3.79290760e-01,\n",
       "               1.45750022e+00,  3.83529007e-01,  7.19282866e-01,  3.71926218e-01,\n",
       "               1.12286814e-01, -1.43498898e-01, -1.85698473e+00, -1.69232357e+00,\n",
       "              -8.18976283e-01,  6.76909685e-02,  1.00293159e+00,  3.32148492e-01,\n",
       "              -1.21238852e+00,  9.33521688e-01, -1.09522760e+00,  5.09688914e-01,\n",
       "               1.57725692e+00,  1.24419487e+00,  3.41060638e-01, -1.77332687e+00,\n",
       "              -3.50698739e-01, -2.19204140e+00,  8.15999925e-01,  7.97818065e-01,\n",
       "              -3.39985108e+00, -2.94853628e-01,  8.45242068e-02,  3.44834149e-01,\n",
       "              -1.55847979e+00, -1.61504149e+00, -1.58615276e-01, -1.68991745e+00,\n",
       "               3.19693732e+00,  9.83716071e-01, -3.84896564e+00,  2.07483912e+00,\n",
       "              -4.01999891e-01, -3.64150107e-01,  1.59435034e+00,  1.50451207e+00,\n",
       "              -1.03635013e+00,  8.33615482e-01,  1.11614871e+00,  2.52472281e+00,\n",
       "               8.08082402e-01, -3.58055210e+00, -4.75656509e-01, -1.64001405e-01,\n",
       "              -1.80309474e+00,  1.47981226e+00, -4.55522329e-01, -8.31115171e-02,\n",
       "              -2.09789610e+00, -1.35118461e+00,  7.95871377e-01,  3.04000282e+00,\n",
       "               9.30590451e-01,  4.44903046e-01,  2.94656396e+00, -2.17556095e+00,\n",
       "              -7.27308154e-01,  1.69340181e+00,  2.25948858e+00,  1.36589706e+00,\n",
       "              -1.96825707e+00,  1.90936074e-01, -2.21844122e-01, -3.00078958e-01,\n",
       "              -1.31290698e+00,  3.36979628e-01,  1.51568067e+00, -1.06847756e-01,\n",
       "              -1.93877816e+00,  1.87386060e+00, -1.82290053e+00,  1.04309969e-01,\n",
       "              -3.26269835e-01,  3.06525660e+00,  6.03818238e-01, -3.12158561e+00,\n",
       "              -4.44839525e+00, -7.24410057e-01,  8.74253035e-01, -2.24025059e+00,\n",
       "               1.52885950e+00, -1.07825756e+00,  9.03200880e-02,  1.41949046e+00,\n",
       "              -9.65129063e-02,  4.80494261e+00,  3.22797418e+00,  2.34044075e+00,\n",
       "               2.03339005e+00, -3.11920613e-01,  1.71433657e-01,  2.13559771e+00,\n",
       "              -2.41187263e+00,  8.47145393e-02,  5.57575107e-01, -3.74826580e-01,\n",
       "               9.00125742e-01, -1.99121451e+00,  8.45270753e-01, -7.08710253e-01,\n",
       "               9.94985223e-01, -2.60439682e+00, -2.51771897e-01,  1.23645020e+00,\n",
       "               2.40885329e+00,  7.33616889e-01,  5.20737052e-01,  8.18866134e-01,\n",
       "               2.17270350e+00, -2.74311751e-01,  2.83600986e-01,  1.79187727e+00,\n",
       "              -1.38990569e+00,  1.14961815e+00,  1.19964004e+00, -6.49571478e-01,\n",
       "              -9.60183620e-01,  2.12734297e-01, -1.33840287e+00,  1.30292904e+00,\n",
       "               1.39594400e+00, -2.17289639e+00, -2.49438667e+00,  1.52598047e+00],\n",
       "             dtype=float32)                                                       ,\n",
       "       array([-2.0182104 ,  1.0746562 , -1.6531684 ,  0.19793607,  4.203979  ,\n",
       "               0.7425176 ,  0.78806376,  3.674992  , -0.55580443, -1.5541093 ,\n",
       "               6.1288023 ,  1.4424309 , -2.991391  ,  0.588418  ,  0.2963073 ,\n",
       "               2.0877113 ,  1.3865772 ,  0.05486114, -1.1489329 , -1.1827123 ,\n",
       "               0.90224594, -0.6803242 , -0.9416155 , -0.04206813, -0.332601  ,\n",
       "              -1.8630369 , -1.7760812 , -0.6306094 , -0.7299962 ,  0.75895584,\n",
       "               1.2115333 , -0.14746872, -0.97419417, -1.3682047 , -2.5804257 ,\n",
       "              -0.46676534, -0.09140702,  0.3684042 ,  1.5680707 ,  0.3044016 ,\n",
       "              -0.23995525, -0.27237082,  0.08330715,  0.08706172, -1.6522868 ,\n",
       "               1.1492058 ,  1.2790067 , -2.5155191 , -0.83810425,  1.839871  ,\n",
       "              -1.2409842 ,  1.6913943 ,  0.50648165, -4.8388886 , -0.63139355,\n",
       "               0.27272707,  0.76289093,  1.0529819 ,  0.93190277, -0.15496217,\n",
       "               0.7649638 , -0.696903  , -0.06379717, -1.3227693 ,  2.0331295 ,\n",
       "               1.871757  , -2.6390693 , -4.0989943 ,  0.7806348 ,  2.377803  ,\n",
       "               0.05070156, -0.40653598, -2.1634147 , -0.19532697, -0.81476194,\n",
       "               1.3386561 , -2.8410268 ,  2.989883  , -3.5419207 , -0.29717487,\n",
       "              -4.5611434 , -0.43959576,  1.2048554 ,  1.0560251 ,  2.1041427 ,\n",
       "               0.38828817, -2.0842984 , -2.8536198 ,  1.4421778 , -0.66050255,\n",
       "              -0.7234596 , -0.60143757,  1.7732731 , -3.86068   ,  0.8772041 ,\n",
       "              -1.1639874 ,  0.81252414, -0.70746136,  0.47327867,  1.0420859 ,\n",
       "               2.1519978 ,  1.5100181 ,  2.0880969 ,  3.575221  , -0.6958721 ,\n",
       "               4.0384693 ,  1.0301201 , -2.2068148 , -0.4826905 , -3.3088298 ,\n",
       "               0.99044967,  1.2851015 , -1.4539678 ,  1.428948  ,  1.37034   ,\n",
       "               0.8479347 , -1.2370344 , -0.60169786, -0.2041199 , -0.6363383 ,\n",
       "              -0.8735647 , -3.4167025 ,  0.87777954,  1.309805  , -0.78258353,\n",
       "              -3.2601268 ,  1.4268564 , -2.0507123 ,  3.084836  , -1.6161551 ,\n",
       "              -3.0817013 , -0.22402243,  3.3296616 , -1.0753503 , -0.49411488,\n",
       "               1.1070596 , -1.411385  , -1.0062397 ,  3.0418017 , -2.4753354 ,\n",
       "              -2.3019495 , -1.1422983 ,  0.3887068 ,  1.5568072 ,  0.41214123,\n",
       "               0.5668096 , -3.8323302 ,  0.0538459 ,  0.7088544 ,  0.77709675,\n",
       "              -0.12068532,  3.3518832 , -0.08253778,  1.8404701 , -1.1469309 ,\n",
       "               1.2001406 ,  2.5347946 , -0.75406814, -2.5050507 , -1.3529577 ,\n",
       "              -0.49187577, -2.5977561 , -0.14364393,  1.8367773 , -1.9868611 ,\n",
       "              -2.0897093 , -3.7674448 ,  1.817601  , -0.1076701 , -0.15627591,\n",
       "               1.7453804 , -0.22905046,  2.6220162 , -0.2809686 ,  2.1760614 ,\n",
       "              -0.11928516,  0.13507679, -0.34087244, -2.2139494 , -1.8096658 ,\n",
       "              -0.5667829 ,  0.15591177,  1.8496727 , -0.15083513, -1.147692  ,\n",
       "               0.50818413, -1.4353087 , -0.22620219,  1.4060998 ,  1.918998  ,\n",
       "              -0.41732603, -1.3139477 , -0.03449429, -1.3524129 , -0.0719469 ,\n",
       "               0.36309555, -2.8199897 , -0.4855565 ,  0.19070935,  0.55004925,\n",
       "              -0.93749624, -1.271399  , -0.4802474 , -3.2509093 ,  2.4222362 ,\n",
       "               0.9807231 , -3.3921895 ,  1.1858385 , -0.6947254 , -0.45691317,\n",
       "               1.2911394 ,  0.5346444 , -1.439746  ,  1.9894083 ,  0.89969796,\n",
       "               2.4073355 ,  0.41007107, -1.5560962 , -0.15938485,  0.11827014,\n",
       "              -2.6867485 ,  0.8930847 ,  0.08804938,  0.30802947, -1.7800268 ,\n",
       "              -0.39974052,  0.03436518,  2.4550967 ,  1.3865416 , -0.38264954,\n",
       "               2.129496  , -2.7909734 , -0.40894756,  1.4357314 ,  1.5202932 ,\n",
       "               1.4755219 , -1.6273497 ,  1.1691835 , -0.36339372, -0.15054464,\n",
       "              -0.5349663 ,  0.7496423 ,  2.070699  ,  0.6004304 , -1.0543169 ,\n",
       "               1.6249825 , -2.3166766 ,  0.18031995,  0.17887926,  2.5423262 ,\n",
       "               1.181192  , -2.5619614 , -4.5896683 , -0.29689115,  0.5237564 ,\n",
       "              -2.374923  ,  1.6220897 ,  0.04332495,  0.02364554,  0.84691507,\n",
       "              -0.378412  ,  4.169459  ,  2.90467   ,  2.2395253 ,  1.78911   ,\n",
       "              -0.44639033,  0.0588641 ,  2.4379194 , -3.0393062 ,  0.17172022,\n",
       "               0.4778872 , -0.18031603,  0.25353432, -1.7126721 ,  0.8476126 ,\n",
       "              -0.19490814,  1.3747165 , -1.1903472 , -1.1196082 ,  1.9971273 ,\n",
       "               0.71934587, -0.06756742,  0.19771484,  1.3215039 ,  3.2495203 ,\n",
       "              -0.66962385,  0.9754283 ,  1.007253  , -0.93623537,  0.32619122,\n",
       "               0.5580295 , -0.71362615, -0.5503829 , -0.30444002, -1.1986312 ,\n",
       "               1.0728675 ,  0.72961897, -0.6359521 , -2.2555766 ,  0.98825336],\n",
       "             dtype=float32)                                                    ],\n",
       "      dtype=object)"
      ]
     },
     "execution_count": 17,
     "metadata": {},
     "output_type": "execute_result"
    }
   ],
   "source": [
    "x_train"
   ]
  },
  {
   "cell_type": "code",
   "execution_count": 18,
   "id": "e01caab4",
   "metadata": {},
   "outputs": [
    {
     "data": {
      "text/plain": [
       "1"
      ]
     },
     "execution_count": 18,
     "metadata": {},
     "output_type": "execute_result"
    }
   ],
   "source": [
    "x_train.ndim"
   ]
  },
  {
   "cell_type": "markdown",
   "id": "471b1bb1",
   "metadata": {},
   "source": [
    "# Scikit_learn Model expects 2D x_train and x_test"
   ]
  },
  {
   "cell_type": "code",
   "execution_count": 19,
   "id": "156a3b5b",
   "metadata": {},
   "outputs": [],
   "source": [
    "# Converting 1D to 2D\n",
    "x_train_2d = np.stack(x_train)\n",
    "x_test_2d = np.stack(x_test)"
   ]
  },
  {
   "cell_type": "code",
   "execution_count": 20,
   "id": "b1e834f5",
   "metadata": {},
   "outputs": [
    {
     "data": {
      "text/plain": [
       "array([[-0.40887675,  0.37702817, -1.68984   , ..., -0.8863633 ,\n",
       "        -2.363007  ,  0.0318155 ],\n",
       "       [-2.5802662 ,  0.57145655, -1.7042542 , ..., -1.2939266 ,\n",
       "        -2.0459073 ,  0.9163959 ],\n",
       "       [-1.7950878 ,  0.8105019 , -2.38934   , ..., -1.1849973 ,\n",
       "        -2.734741  ,  1.2729874 ],\n",
       "       ...,\n",
       "       [-1.6814642 ,  0.15683609, -1.3219042 , ..., -1.5365556 ,\n",
       "        -1.2449412 ,  0.54306644],\n",
       "       [-1.7226977 ,  0.3787662 , -2.2941341 , ..., -2.1728964 ,\n",
       "        -2.4943867 ,  1.5259805 ],\n",
       "       [-2.0182104 ,  1.0746562 , -1.6531684 , ..., -0.6359521 ,\n",
       "        -2.2555766 ,  0.98825336]], dtype=float32)"
      ]
     },
     "execution_count": 20,
     "metadata": {},
     "output_type": "execute_result"
    }
   ],
   "source": [
    "x_train_2d"
   ]
  },
  {
   "cell_type": "code",
   "execution_count": 21,
   "id": "327abdbd",
   "metadata": {},
   "outputs": [
    {
     "data": {
      "text/plain": [
       "2"
      ]
     },
     "execution_count": 21,
     "metadata": {},
     "output_type": "execute_result"
    }
   ],
   "source": [
    "x_train_2d.ndim"
   ]
  },
  {
   "cell_type": "code",
   "execution_count": 22,
   "id": "8bf6112d",
   "metadata": {},
   "outputs": [
    {
     "data": {
      "text/plain": [
       "2"
      ]
     },
     "execution_count": 22,
     "metadata": {},
     "output_type": "execute_result"
    }
   ],
   "source": [
    "x_test_2d.ndim"
   ]
  },
  {
   "cell_type": "code",
   "execution_count": null,
   "id": "7783f486",
   "metadata": {},
   "outputs": [],
   "source": [
    "# Standardizing the data\n",
    "from sklearn.preprocessing import MinMaxScaler\n",
    "\n",
    "mns= MinMaxScaler()\n",
    "x_train_scaled = mns.fit_transform(x_train_2d)\n",
    "x_test_scaled = mns.transform(x_test_2d)"
   ]
  },
  {
   "cell_type": "markdown",
   "id": "68e340e0",
   "metadata": {},
   "source": [
    "# Training the model to Multinomial Naive Bayes Model"
   ]
  },
  {
   "cell_type": "code",
   "execution_count": 27,
   "id": "7d626982",
   "metadata": {},
   "outputs": [
    {
     "data": {
      "text/plain": [
       "MultinomialNB()"
      ]
     },
     "execution_count": 27,
     "metadata": {},
     "output_type": "execute_result"
    }
   ],
   "source": [
    "from sklearn.naive_bayes import MultinomialNB\n",
    "clf = MultinomialNB()\n",
    "clf.fit(x_train_scaled, y_train)"
   ]
  },
  {
   "cell_type": "code",
   "execution_count": 28,
   "id": "ea9822a0",
   "metadata": {},
   "outputs": [],
   "source": [
    "# x_test prediction\n",
    "y_pred = clf.predict(x_test_scaled)"
   ]
  },
  {
   "cell_type": "code",
   "execution_count": 29,
   "id": "e3aa266c",
   "metadata": {},
   "outputs": [
    {
     "name": "stdout",
     "output_type": "stream",
     "text": [
      "              precision    recall  f1-score   support\n",
      "\n",
      "           0       0.74      0.85      0.79       634\n",
      "           1       0.83      0.70      0.76       633\n",
      "\n",
      "    accuracy                           0.78      1267\n",
      "   macro avg       0.78      0.77      0.77      1267\n",
      "weighted avg       0.78      0.78      0.77      1267\n",
      "\n"
     ]
    }
   ],
   "source": [
    "# Classification Report\n",
    "from sklearn.metrics import classification_report\n",
    "cr = classification_report(y_test, y_pred)\n",
    "print(cr)"
   ]
  },
  {
   "cell_type": "code",
   "execution_count": 30,
   "id": "0af19514",
   "metadata": {},
   "outputs": [
    {
     "data": {
      "text/plain": [
       "<AxesSubplot:>"
      ]
     },
     "execution_count": 30,
     "metadata": {},
     "output_type": "execute_result"
    },
    {
     "data": {
      "image/png": "[encoded data removed]",
      "text/plain": [
       "<Figure size 640x480 with 2 Axes>"
      ]
     },
     "metadata": {},
     "output_type": "display_data"
    }
   ],
   "source": [
    "# Confusuion matrix\n",
    "from sklearn.metrics import confusion_matrix\n",
    "cm = confusion_matrix(y_test, y_pred)\n",
    "\n",
    "# Visualization\n",
    "sns.set()\n",
    "sns.heatmap(cm, fmt= \".1f\", annot=True, cbar=True, cmap=\"viridis\")"
   ]
  },
  {
   "cell_type": "code",
   "execution_count": 31,
   "id": "dccb772a",
   "metadata": {},
   "outputs": [
    {
     "data": {
      "text/plain": [
       "467     0\n",
       "2240    1\n",
       "4582    1\n",
       "1682    1\n",
       "178     0\n",
       "Name: category, dtype: int64"
      ]
     },
     "execution_count": 31,
     "metadata": {},
     "output_type": "execute_result"
    }
   ],
   "source": [
    "y_test[:5]"
   ]
  },
  {
   "cell_type": "code",
   "execution_count": 32,
   "id": "80e023a7",
   "metadata": {},
   "outputs": [
    {
     "data": {
      "text/plain": [
       "array([0, 1, 0, 1, 0], dtype=int64)"
      ]
     },
     "execution_count": 32,
     "metadata": {},
     "output_type": "execute_result"
    }
   ],
   "source": [
    "y_pred[:5]"
   ]
  },
  {
   "cell_type": "markdown",
   "id": "44e387f3",
   "metadata": {},
   "source": [
    "# Training the model to KNearestNeighbor Model"
   ]
  },
  {
   "cell_type": "code",
   "execution_count": 33,
   "id": "12e710ac",
   "metadata": {},
   "outputs": [
    {
     "data": {
      "text/plain": [
       "KNeighborsClassifier()"
      ]
     },
     "execution_count": 33,
     "metadata": {},
     "output_type": "execute_result"
    }
   ],
   "source": [
    "from sklearn.neighbors import KNeighborsClassifier\n",
    "clf = KNeighborsClassifier()\n",
    "clf.fit(x_train_scaled, y_train)"
   ]
  },
  {
   "cell_type": "code",
   "execution_count": 34,
   "id": "b0b750b3",
   "metadata": {},
   "outputs": [],
   "source": [
    "# x_test prediction\n",
    "y_pred = clf.predict(x_test_scaled)"
   ]
  },
  {
   "cell_type": "code",
   "execution_count": 35,
   "id": "abb5621c",
   "metadata": {},
   "outputs": [
    {
     "name": "stdout",
     "output_type": "stream",
     "text": [
      "              precision    recall  f1-score   support\n",
      "\n",
      "           0       0.77      0.90      0.83       634\n",
      "           1       0.88      0.73      0.80       633\n",
      "\n",
      "    accuracy                           0.82      1267\n",
      "   macro avg       0.83      0.82      0.82      1267\n",
      "weighted avg       0.83      0.82      0.82      1267\n",
      "\n"
     ]
    }
   ],
   "source": [
    "# Classification Report\n",
    "from sklearn.metrics import classification_report\n",
    "cr = classification_report(y_test, y_pred)\n",
    "print(cr)"
   ]
  },
  {
   "cell_type": "code",
   "execution_count": 36,
   "id": "a2f090b6",
   "metadata": {},
   "outputs": [
    {
     "data": {
      "text/plain": [
       "<AxesSubplot:>"
      ]
     },
     "execution_count": 36,
     "metadata": {},
     "output_type": "execute_result"
    },
    {
     "data": {
      "image/png": "[encoded data removed]",
      "text/plain": [
       "<Figure size 640x480 with 2 Axes>"
      ]
     },
     "metadata": {},
     "output_type": "display_data"
    }
   ],
   "source": [
    "# Confusuion matrix\n",
    "from sklearn.metrics import confusion_matrix\n",
    "cm = confusion_matrix(y_test, y_pred)\n",
    "\n",
    "# Visualization\n",
    "sns.set()\n",
    "sns.heatmap(cm, fmt= \".1f\", annot=True, cbar=True, cmap=\"Blues\")"
   ]
  },
  {
   "cell_type": "code",
   "execution_count": 37,
   "id": "2cf14582",
   "metadata": {},
   "outputs": [
    {
     "data": {
      "text/plain": [
       "467     0\n",
       "2240    1\n",
       "4582    1\n",
       "1682    1\n",
       "178     0\n",
       "Name: category, dtype: int64"
      ]
     },
     "execution_count": 37,
     "metadata": {},
     "output_type": "execute_result"
    }
   ],
   "source": [
    "y_test[:5]"
   ]
  },
  {
   "cell_type": "code",
   "execution_count": 38,
   "id": "832e10d6",
   "metadata": {},
   "outputs": [
    {
     "data": {
      "text/plain": [
       "array([0, 0, 0, 1, 0], dtype=int64)"
      ]
     },
     "execution_count": 38,
     "metadata": {},
     "output_type": "execute_result"
    }
   ],
   "source": [
    "y_pred[:5]"
   ]
  },
  {
   "cell_type": "markdown",
   "id": "99a88c61",
   "metadata": {},
   "source": [
    "# Training the model to Random Forest Classifier Model"
   ]
  },
  {
   "cell_type": "code",
   "execution_count": 39,
   "id": "0edb60bc",
   "metadata": {},
   "outputs": [
    {
     "data": {
      "text/plain": [
       "RandomForestClassifier()"
      ]
     },
     "execution_count": 39,
     "metadata": {},
     "output_type": "execute_result"
    }
   ],
   "source": [
    "from sklearn.ensemble import RandomForestClassifier\n",
    "clf = RandomForestClassifier()\n",
    "clf.fit(x_train_scaled, y_train)"
   ]
  },
  {
   "cell_type": "code",
   "execution_count": 40,
   "id": "1902afc0",
   "metadata": {},
   "outputs": [],
   "source": [
    "# x_test prediction\n",
    "y_pred = clf.predict(x_test_scaled)"
   ]
  },
  {
   "cell_type": "code",
   "execution_count": 41,
   "id": "a981c209",
   "metadata": {},
   "outputs": [
    {
     "name": "stdout",
     "output_type": "stream",
     "text": [
      "              precision    recall  f1-score   support\n",
      "\n",
      "           0       0.86      0.86      0.86       634\n",
      "           1       0.86      0.86      0.86       633\n",
      "\n",
      "    accuracy                           0.86      1267\n",
      "   macro avg       0.86      0.86      0.86      1267\n",
      "weighted avg       0.86      0.86      0.86      1267\n",
      "\n"
     ]
    }
   ],
   "source": [
    "# Classification Report\n",
    "from sklearn.metrics import classification_report\n",
    "cr = classification_report(y_test, y_pred)\n",
    "print(cr)"
   ]
  },
  {
   "cell_type": "code",
   "execution_count": 42,
   "id": "8b955d7b",
   "metadata": {},
   "outputs": [
    {
     "data": {
      "text/plain": [
       "<AxesSubplot:>"
      ]
     },
     "execution_count": 42,
     "metadata": {},
     "output_type": "execute_result"
    },
    {
     "data": {
      "image/png": "[encoded data removed]",
      "text/plain": [
       "<Figure size 640x480 with 2 Axes>"
      ]
     },
     "metadata": {},
     "output_type": "display_data"
    }
   ],
   "source": [
    "# Confusuion matrix\n",
    "from sklearn.metrics import confusion_matrix\n",
    "cm = confusion_matrix(y_test, y_pred)\n",
    "\n",
    "# Visualization\n",
    "sns.set()\n",
    "sns.heatmap(cm, fmt= \".1f\", annot=True, cbar=True)"
   ]
  },
  {
   "cell_type": "code",
   "execution_count": 43,
   "id": "ce3f4d4a",
   "metadata": {},
   "outputs": [
    {
     "data": {
      "text/plain": [
       "467     0\n",
       "2240    1\n",
       "4582    1\n",
       "1682    1\n",
       "178     0\n",
       "Name: category, dtype: int64"
      ]
     },
     "execution_count": 43,
     "metadata": {},
     "output_type": "execute_result"
    }
   ],
   "source": [
    "y_test[:5]"
   ]
  },
  {
   "cell_type": "code",
   "execution_count": 44,
   "id": "c4d3124f",
   "metadata": {},
   "outputs": [
    {
     "data": {
      "text/plain": [
       "array([0, 1, 0, 1, 1], dtype=int64)"
      ]
     },
     "execution_count": 44,
     "metadata": {},
     "output_type": "execute_result"
    }
   ],
   "source": [
    "y_pred[:5]"
   ]
  },
  {
   "cell_type": "code",
   "execution_count": null,
   "id": "f3dcee14",
   "metadata": {},
   "outputs": [],
   "source": []
  }
 ],
 "metadata": {
  "kernelspec": {
   "display_name": "Python 3 (ipykernel)",
   "language": "python",
   "name": "python3"
  },
  "language_info": {
   "codemirror_mode": {
    "name": "ipython",
    "version": 3
   },
   "file_extension": ".py",
   "mimetype": "text/x-python",
   "name": "python",
   "nbconvert_exporter": "python",
   "pygments_lexer": "ipython3",
   "version": "3.7.13"
  }
 },
 "nbformat": 4,
 "nbformat_minor": 5
}
