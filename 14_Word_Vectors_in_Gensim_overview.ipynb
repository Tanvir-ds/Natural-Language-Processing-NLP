{
 "cells": [
  {
   "cell_type": "code",
   "execution_count": 1,
   "metadata": {
    "colab": {
     "base_uri": "https://localhost:8080/"
    },
    "executionInfo": {
     "elapsed": 5375,
     "status": "ok",
     "timestamp": 1692360057151,
     "user": {
      "displayName": "Tanvir Ahmed",
      "userId": "05866748450852612847"
     },
     "user_tz": -360
    },
    "id": "k_285_ZEb1hD",
    "outputId": "675d720d-fb13-4ad9-ab51-e036063306f8"
   },
   "outputs": [
    {
     "name": "stdout",
     "output_type": "stream",
     "text": [
      "Requirement already satisfied: gensim in /usr/local/lib/python3.10/dist-packages (4.3.1)\n",
      "Requirement already satisfied: numpy>=1.18.5 in /usr/local/lib/python3.10/dist-packages (from gensim) (1.23.5)\n",
      "Requirement already satisfied: scipy>=1.7.0 in /usr/local/lib/python3.10/dist-packages (from gensim) (1.10.1)\n",
      "Requirement already satisfied: smart-open>=1.8.1 in /usr/local/lib/python3.10/dist-packages (from gensim) (6.3.0)\n"
     ]
    }
   ],
   "source": [
    "!pip install gensim"
   ]
  },
  {
   "cell_type": "code",
   "execution_count": 2,
   "metadata": {
    "executionInfo": {
     "elapsed": 67365,
     "status": "ok",
     "timestamp": 1692360124506,
     "user": {
      "displayName": "Tanvir Ahmed",
      "userId": "05866748450852612847"
     },
     "user_tz": -360
    },
    "id": "HhXJi1UmcGGn"
   },
   "outputs": [],
   "source": [
    "import gensim.downloader as api\n",
    "\n",
    "word_to_vec = api.load(\"word2vec-google-news-300\")"
   ]
  },
  {
   "cell_type": "code",
   "execution_count": 3,
   "metadata": {
    "colab": {
     "base_uri": "https://localhost:8080/"
    },
    "executionInfo": {
     "elapsed": 14,
     "status": "ok",
     "timestamp": 1692360124507,
     "user": {
      "displayName": "Tanvir Ahmed",
      "userId": "05866748450852612847"
     },
     "user_tz": -360
    },
    "id": "gzr-ql78bPoV",
    "outputId": "6977867b-ea34-4301-827c-e951235de497"
   },
   "outputs": [
    {
     "data": {
      "text/plain": [
       "0.729151"
      ]
     },
     "execution_count": 3,
     "metadata": {},
     "output_type": "execute_result"
    }
   ],
   "source": [
    "# Similarity score of two words\n",
    "word_to_vec.similarity(w1 = \"great\", w2=\"good\")"
   ]
  },
  {
   "cell_type": "code",
   "execution_count": 4,
   "metadata": {
    "colab": {
     "base_uri": "https://localhost:8080/"
    },
    "executionInfo": {
     "elapsed": 8718,
     "status": "ok",
     "timestamp": 1692360133217,
     "user": {
      "displayName": "Tanvir Ahmed",
      "userId": "05866748450852612847"
     },
     "user_tz": -360
    },
    "id": "J7U77RoHePEA",
    "outputId": "b4501886-bec4-472c-fb12-51af21b56e7b"
   },
   "outputs": [
    {
     "data": {
      "text/plain": [
       "[('great', 0.7291510105133057),\n",
       " ('bad', 0.7190051078796387),\n",
       " ('terrific', 0.6889115571975708),\n",
       " ('decent', 0.6837348341941833),\n",
       " ('nice', 0.6836092472076416),\n",
       " ('excellent', 0.644292950630188),\n",
       " ('fantastic', 0.6407778263092041),\n",
       " ('better', 0.6120728850364685),\n",
       " ('solid', 0.5806034803390503),\n",
       " ('lousy', 0.576420247554779)]"
      ]
     },
     "execution_count": 4,
     "metadata": {},
     "output_type": "execute_result"
    }
   ],
   "source": [
    "# Most similar words of based word\n",
    "word_to_vec.most_similar(\"good\")"
   ]
  },
  {
   "cell_type": "markdown",
   "metadata": {
    "id": "susFbczWfGz7"
   },
   "source": [
    "\n",
    "\n",
    "1.   King - Man + Woman = Queen\n",
    "2.   France - Paris + Berlin = Germany\n",
    "\n"
   ]
  },
  {
   "cell_type": "code",
   "execution_count": 5,
   "metadata": {
    "colab": {
     "base_uri": "https://localhost:8080/"
    },
    "executionInfo": {
     "elapsed": 618,
     "status": "ok",
     "timestamp": 1692360133828,
     "user": {
      "displayName": "Tanvir Ahmed",
      "userId": "05866748450852612847"
     },
     "user_tz": -360
    },
    "id": "dvMoprF0e0n0",
    "outputId": "07d8de09-603a-4fd9-da5a-632bdae8a657"
   },
   "outputs": [
    {
     "data": {
      "text/plain": [
       "[('Queen', 0.4929387867450714),\n",
       " ('Tupou_V.', 0.45174285769462585),\n",
       " ('Oprah_BFF_Gayle', 0.4422132968902588),\n",
       " ('Jackson', 0.440250426530838),\n",
       " ('NECN_Alison', 0.4331282675266266),\n",
       " ('Whitfield', 0.42834725975990295),\n",
       " ('Ida_Vandross', 0.42084527015686035),\n",
       " ('prosecutor_Dan_Satterberg', 0.420758992433548),\n",
       " ('martin_Luther_King', 0.42059651017189026),\n",
       " ('Coretta_King', 0.4202733635902405)]"
      ]
     },
     "execution_count": 5,
     "metadata": {},
     "output_type": "execute_result"
    }
   ],
   "source": [
    "word_to_vec.most_similar(positive=[\"King\",\"Woman\"], negative=[\"Man\"])"
   ]
  },
  {
   "cell_type": "code",
   "execution_count": 6,
   "metadata": {
    "colab": {
     "base_uri": "https://localhost:8080/"
    },
    "executionInfo": {
     "elapsed": 1496,
     "status": "ok",
     "timestamp": 1692360135319,
     "user": {
      "displayName": "Tanvir Ahmed",
      "userId": "05866748450852612847"
     },
     "user_tz": -360
    },
    "id": "NWfORjjEfovy",
    "outputId": "aa5b3920-3dd0-4b99-ef44-52596cdb1849"
   },
   "outputs": [
    {
     "data": {
      "text/plain": [
       "[('Germany', 0.7901254892349243),\n",
       " ('Austria', 0.6026812195777893),\n",
       " ('German', 0.6004959940910339),\n",
       " ('Germans', 0.5851002931594849),\n",
       " ('Poland', 0.5847075581550598),\n",
       " ('Hungary', 0.5271855592727661),\n",
       " ('BBC_Tristana_Moore', 0.5249711275100708),\n",
       " ('symbol_RSTI', 0.5245768427848816),\n",
       " ('Belgium', 0.5221248269081116),\n",
       " ('Germnay', 0.5199405550956726)]"
      ]
     },
     "execution_count": 6,
     "metadata": {},
     "output_type": "execute_result"
    }
   ],
   "source": [
    "word_to_vec.most_similar(positive=[\"France\",\"Berlin\"], negative=[\"Paris\"])"
   ]
  },
  {
   "cell_type": "code",
   "execution_count": 7,
   "metadata": {
    "colab": {
     "base_uri": "https://localhost:8080/",
     "height": 35
    },
    "executionInfo": {
     "elapsed": 16,
     "status": "ok",
     "timestamp": 1692360135322,
     "user": {
      "displayName": "Tanvir Ahmed",
      "userId": "05866748450852612847"
     },
     "user_tz": -360
    },
    "id": "QNU9S1Vcf_hB",
    "outputId": "75d05044-a5d6-4e8f-beaa-3d184946f818"
   },
   "outputs": [
    {
     "data": {
      "application/vnd.google.colaboratory.intrinsic+json": {
       "type": "string"
      },
      "text/plain": [
       "'cat'"
      ]
     },
     "execution_count": 7,
     "metadata": {},
     "output_type": "execute_result"
    }
   ],
   "source": [
    "word_to_vec.doesnt_match([\"iphone\", \"samsung\", \"oppo\", \"cat\"])"
   ]
  },
  {
   "cell_type": "code",
   "execution_count": 8,
   "metadata": {
    "executionInfo": {
     "elapsed": 41392,
     "status": "ok",
     "timestamp": 1692360176701,
     "user": {
      "displayName": "Tanvir Ahmed",
      "userId": "05866748450852612847"
     },
     "user_tz": -360
    },
    "id": "4N-X3B-Zgbd6"
   },
   "outputs": [],
   "source": [
    "glove = api.load(\"glove-twitter-25\")"
   ]
  },
  {
   "cell_type": "code",
   "execution_count": 14,
   "metadata": {
    "colab": {
     "base_uri": "https://localhost:8080/"
    },
    "executionInfo": {
     "elapsed": 9,
     "status": "ok",
     "timestamp": 1692360206569,
     "user": {
      "displayName": "Tanvir Ahmed",
      "userId": "05866748450852612847"
     },
     "user_tz": -360
    },
    "id": "aH-vofwbguNg",
    "outputId": "c3232d25-97a0-4490-8161-89167ede2ce2"
   },
   "outputs": [
    {
     "data": {
      "text/plain": [
       "0.9378517"
      ]
     },
     "execution_count": 14,
     "metadata": {},
     "output_type": "execute_result"
    }
   ],
   "source": [
    "# Similarity score of two words\n",
    "glove.similarity(w1 = \"great\", w2=\"good\")"
   ]
  },
  {
   "cell_type": "code",
   "execution_count": 15,
   "metadata": {
    "colab": {
     "base_uri": "https://localhost:8080/"
    },
    "executionInfo": {
     "elapsed": 663,
     "status": "ok",
     "timestamp": 1692360213230,
     "user": {
      "displayName": "Tanvir Ahmed",
      "userId": "05866748450852612847"
     },
     "user_tz": -360
    },
    "id": "yiCPzrgHg1x3",
    "outputId": "e4bd950e-a43d-4476-d1d2-74262ad5d97e"
   },
   "outputs": [
    {
     "data": {
      "text/plain": [
       "[('too', 0.9648017287254333),\n",
       " ('day', 0.9533665180206299),\n",
       " ('well', 0.9503170847892761),\n",
       " ('nice', 0.9438973665237427),\n",
       " ('better', 0.9425962567329407),\n",
       " ('fun', 0.9418926239013672),\n",
       " ('much', 0.9413353800773621),\n",
       " ('this', 0.9387555122375488),\n",
       " ('hope', 0.9383506774902344),\n",
       " ('great', 0.9378516674041748)]"
      ]
     },
     "execution_count": 15,
     "metadata": {},
     "output_type": "execute_result"
    }
   ],
   "source": [
    "# Most similar words of based word\n",
    "glove.most_similar(\"good\")"
   ]
  },
  {
   "cell_type": "code",
   "execution_count": 17,
   "metadata": {
    "colab": {
     "base_uri": "https://localhost:8080/"
    },
    "executionInfo": {
     "elapsed": 465,
     "status": "ok",
     "timestamp": 1692360243856,
     "user": {
      "displayName": "Tanvir Ahmed",
      "userId": "05866748450852612847"
     },
     "user_tz": -360
    },
    "id": "ni5vNp7Dg10o",
    "outputId": "b4f1d0ca-7ad8-468c-ec59-d4102ea35015"
   },
   "outputs": [
    {
     "data": {
      "text/plain": [
       "[('meets', 0.8841924071311951),\n",
       " ('prince', 0.832163393497467),\n",
       " ('queen', 0.8257461190223694),\n",
       " ('’s', 0.8174097537994385),\n",
       " ('crow', 0.813499391078949),\n",
       " ('hunter', 0.8131037950515747),\n",
       " ('father', 0.8115834593772888),\n",
       " ('soldier', 0.81113600730896),\n",
       " ('mercy', 0.8082392811775208),\n",
       " ('hero', 0.8082264065742493)]"
      ]
     },
     "execution_count": 17,
     "metadata": {},
     "output_type": "execute_result"
    }
   ],
   "source": [
    "glove.most_similar(positive=[\"king\",\"woman\"], negative=[\"man\"])"
   ]
  },
  {
   "cell_type": "code",
   "execution_count": 19,
   "metadata": {
    "colab": {
     "base_uri": "https://localhost:8080/"
    },
    "executionInfo": {
     "elapsed": 607,
     "status": "ok",
     "timestamp": 1692360266096,
     "user": {
      "displayName": "Tanvir Ahmed",
      "userId": "05866748450852612847"
     },
     "user_tz": -360
    },
    "id": "bCoVN7E6g13C",
    "outputId": "8092f632-c773-4a76-b8ee-5863991eb834"
   },
   "outputs": [
    {
     "data": {
      "text/plain": [
       "[('frankfurt', 0.8528209924697876),\n",
       " ('hamburg', 0.8513832092285156),\n",
       " ('deutschland', 0.8492450714111328),\n",
       " ('münchen', 0.8251250982284546),\n",
       " ('düsseldorf', 0.8218944668769836),\n",
       " ('hannover', 0.8195233345031738),\n",
       " ('köln', 0.8042037487030029),\n",
       " ('bremen', 0.797916054725647),\n",
       " ('olympia', 0.7926302552223206),\n",
       " ('wien', 0.7905245423316956)]"
      ]
     },
     "execution_count": 19,
     "metadata": {},
     "output_type": "execute_result"
    }
   ],
   "source": [
    "glove.most_similar(positive=[\"france\",\"berlin\"], negative=[\"paris\"])"
   ]
  },
  {
   "cell_type": "code",
   "execution_count": 20,
   "metadata": {
    "colab": {
     "base_uri": "https://localhost:8080/",
     "height": 35
    },
    "executionInfo": {
     "elapsed": 21,
     "status": "ok",
     "timestamp": 1692360273931,
     "user": {
      "displayName": "Tanvir Ahmed",
      "userId": "05866748450852612847"
     },
     "user_tz": -360
    },
    "id": "OMytTf3bg16A",
    "outputId": "9bab18c9-721f-4eeb-ab0d-99ca3c1d4d23"
   },
   "outputs": [
    {
     "data": {
      "application/vnd.google.colaboratory.intrinsic+json": {
       "type": "string"
      },
      "text/plain": [
       "'cat'"
      ]
     },
     "execution_count": 20,
     "metadata": {},
     "output_type": "execute_result"
    }
   ],
   "source": [
    "glove.doesnt_match([\"iphone\", \"samsung\", \"oppo\", \"cat\"])"
   ]
  },
  {
   "cell_type": "code",
   "execution_count": 13,
   "metadata": {
    "executionInfo": {
     "elapsed": 15,
     "status": "ok",
     "timestamp": 1692360177835,
     "user": {
      "displayName": "Tanvir Ahmed",
      "userId": "05866748450852612847"
     },
     "user_tz": -360
    },
    "id": "zGzt5MNkg19q"
   },
   "outputs": [],
   "source": []
  }
 ],
 "metadata": {
  "colab": {
   "authorship_tag": "ABX9TyOiOaCCSkR+6X1vK5y5sGG5",
   "provenance": []
  },
  "kernelspec": {
   "display_name": "Python 3 (ipykernel)",
   "language": "python",
   "name": "python3"
  },
  "language_info": {
   "codemirror_mode": {
    "name": "ipython",
    "version": 3
   },
   "file_extension": ".py",
   "mimetype": "text/x-python",
   "name": "python",
   "nbconvert_exporter": "python",
   "pygments_lexer": "ipython3",
   "version": "3.7.13"
  }
 },
 "nbformat": 4,
 "nbformat_minor": 1
}
