{
 "cells": [
  {
   "cell_type": "markdown",
   "id": "75760a22",
   "metadata": {},
   "source": [
    "# Spacy"
   ]
  },
  {
   "cell_type": "code",
   "execution_count": 1,
   "id": "5ede2569",
   "metadata": {},
   "outputs": [],
   "source": [
    "import spacy\n",
    "\n",
    "# Load the 'en_core_web_sm' model\n",
    "nlp = spacy.load(\"en_core_web_sm\")"
   ]
  },
  {
   "cell_type": "code",
   "execution_count": 2,
   "id": "51b92859",
   "metadata": {},
   "outputs": [],
   "source": [
    "doc = nlp(\"Dr. Strange loves Haji Beriyani of Dhaka. Spyder-Man loves Rajshahi City.\")"
   ]
  },
  {
   "cell_type": "code",
   "execution_count": 3,
   "id": "2fc401fa",
   "metadata": {},
   "outputs": [
    {
     "name": "stdout",
     "output_type": "stream",
     "text": [
      "Dr. Strange loves Haji Beriyani of Dhaka.\n",
      "Spyder-Man loves Rajshahi City.\n"
     ]
    }
   ],
   "source": [
    "# Splitting the sentences\n",
    "for sentence in doc.sents:\n",
    "    print(sentence)"
   ]
  },
  {
   "cell_type": "code",
   "execution_count": 4,
   "id": "eef78d92",
   "metadata": {},
   "outputs": [
    {
     "name": "stdout",
     "output_type": "stream",
     "text": [
      "Dr.\n",
      "Strange\n",
      "loves\n",
      "Haji\n",
      "Beriyani\n",
      "of\n",
      "Dhaka\n",
      ".\n",
      "Spyder\n",
      "-\n",
      "Man\n",
      "loves\n",
      "Rajshahi\n",
      "City\n",
      ".\n"
     ]
    }
   ],
   "source": [
    "# Extracting each word\n",
    "for sentence in doc.sents:\n",
    "    for word in sentence:\n",
    "        print(word)"
   ]
  },
  {
   "cell_type": "markdown",
   "id": "39f86df8",
   "metadata": {},
   "source": [
    "# NLTK"
   ]
  },
  {
   "cell_type": "code",
   "execution_count": 5,
   "id": "787fdaeb",
   "metadata": {},
   "outputs": [],
   "source": [
    "import nltk"
   ]
  },
  {
   "cell_type": "code",
   "execution_count": 6,
   "id": "3e4feeb3",
   "metadata": {},
   "outputs": [],
   "source": [
    "# nltk.download('punkt')"
   ]
  },
  {
   "cell_type": "code",
   "execution_count": 7,
   "id": "c1ecfb49",
   "metadata": {},
   "outputs": [
    {
     "data": {
      "text/plain": [
       "['Dr.',\n",
       " 'Strange loves Haji Beriyani of Dhaka.',\n",
       " 'Spyder-Man loves Rajshahi City.']"
      ]
     },
     "execution_count": 7,
     "metadata": {},
     "output_type": "execute_result"
    }
   ],
   "source": [
    "from nltk.tokenize import sent_tokenize\n",
    "\n",
    "sent_tokenize(\"Dr. Strange loves Haji Beriyani of Dhaka. Spyder-Man loves Rajshahi City.\")"
   ]
  },
  {
   "cell_type": "code",
   "execution_count": 8,
   "id": "ccf6e6cd",
   "metadata": {},
   "outputs": [
    {
     "name": "stdout",
     "output_type": "stream",
     "text": [
      "Dr.\n",
      "Strange loves Haji Beriyani of Dhaka.\n",
      "Spyder-Man loves Rajshahi City.\n"
     ]
    }
   ],
   "source": [
    "text = \"Dr. Strange loves Haji Beriyani of Dhaka. Spyder-Man loves Rajshahi City.\"\n",
    "sentences = sent_tokenize(text)\n",
    "\n",
    "for sentence in sentences:\n",
    "    print(sentence)"
   ]
  },
  {
   "cell_type": "code",
   "execution_count": 9,
   "id": "a21fead3",
   "metadata": {},
   "outputs": [
    {
     "data": {
      "text/plain": [
       "['Dr',\n",
       " '.',\n",
       " 'Strange',\n",
       " 'loves',\n",
       " 'Haji',\n",
       " 'Beriyani',\n",
       " 'of',\n",
       " 'Dhaka',\n",
       " '.',\n",
       " 'Spyder-Man',\n",
       " 'loves',\n",
       " 'Rajshahi',\n",
       " 'City',\n",
       " '.']"
      ]
     },
     "execution_count": 9,
     "metadata": {},
     "output_type": "execute_result"
    }
   ],
   "source": [
    "from nltk.tokenize import word_tokenize\n",
    "\n",
    "word_tokenize(\"Dr. Strange loves Haji Beriyani of Dhaka. Spyder-Man loves Rajshahi City.\")"
   ]
  },
  {
   "cell_type": "code",
   "execution_count": 10,
   "id": "647ade15",
   "metadata": {},
   "outputs": [
    {
     "name": "stdout",
     "output_type": "stream",
     "text": [
      "Dr\n",
      ".\n",
      "Strange\n",
      "loves\n",
      "Haji\n",
      "Beriyani\n",
      "of\n",
      "Dhaka\n",
      ".\n",
      "Spyder-Man\n",
      "loves\n",
      "Rajshahi\n",
      "City\n",
      ".\n"
     ]
    }
   ],
   "source": [
    "text = \"Dr. Strange loves Haji Beriyani of Dhaka. Spyder-Man loves Rajshahi City.\"\n",
    "words = word_tokenize(text)\n",
    "\n",
    "for sentence in words:\n",
    "    print(sentence)"
   ]
  },
  {
   "cell_type": "code",
   "execution_count": null,
   "id": "031d73fd",
   "metadata": {},
   "outputs": [],
   "source": []
  }
 ],
 "metadata": {
  "kernelspec": {
   "display_name": "Python 3 (ipykernel)",
   "language": "python",
   "name": "python3"
  },
  "language_info": {
   "codemirror_mode": {
    "name": "ipython",
    "version": 3
   },
   "file_extension": ".py",
   "mimetype": "text/x-python",
   "name": "python",
   "nbconvert_exporter": "python",
   "pygments_lexer": "ipython3",
   "version": "3.7.13"
  }
 },
 "nbformat": 4,
 "nbformat_minor": 5
}
