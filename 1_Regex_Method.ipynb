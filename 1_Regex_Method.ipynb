{
 "cells": [
  {
   "cell_type": "code",
   "execution_count": 1,
   "id": "3eaba1bd",
   "metadata": {},
   "outputs": [],
   "source": [
    "import re"
   ]
  },
  {
   "cell_type": "code",
   "execution_count": 2,
   "id": "b617f548",
   "metadata": {},
   "outputs": [],
   "source": [
    "text = \"The Rain in Spain\""
   ]
  },
  {
   "cell_type": "markdown",
   "id": "5386ff5f",
   "metadata": {},
   "source": [
    "# findall() method"
   ]
  },
  {
   "cell_type": "code",
   "execution_count": 3,
   "id": "3987d18a",
   "metadata": {},
   "outputs": [
    {
     "data": {
      "text/plain": [
       "['ai', 'ai']"
      ]
     },
     "execution_count": 3,
     "metadata": {},
     "output_type": "execute_result"
    }
   ],
   "source": [
    "# With all matching,returns list\n",
    "x = re.findall(\"ai\",text)\n",
    "x"
   ]
  },
  {
   "cell_type": "code",
   "execution_count": 4,
   "id": "7995558a",
   "metadata": {},
   "outputs": [
    {
     "data": {
      "text/plain": [
       "[]"
      ]
     },
     "execution_count": 4,
     "metadata": {},
     "output_type": "execute_result"
    }
   ],
   "source": [
    "# If match not find,returns Empty List\n",
    "y = re.findall(\"bi\",text)\n",
    "y"
   ]
  },
  {
   "cell_type": "markdown",
   "id": "91709f49",
   "metadata": {},
   "source": [
    "# split() method"
   ]
  },
  {
   "cell_type": "code",
   "execution_count": 5,
   "id": "a8cb949d",
   "metadata": {},
   "outputs": [
    {
     "data": {
      "text/plain": [
       "['The', 'Rain', 'in', 'Spain']"
      ]
     },
     "execution_count": 5,
     "metadata": {},
     "output_type": "execute_result"
    }
   ],
   "source": [
    "# Split the string,where every match(white-space) finds.\n",
    "x = re.split(\"\\s\",text)\n",
    "x"
   ]
  },
  {
   "cell_type": "code",
   "execution_count": 6,
   "id": "118139c0",
   "metadata": {},
   "outputs": [
    {
     "data": {
      "text/plain": [
       "['The', 'Rain in Spain']"
      ]
     },
     "execution_count": 6,
     "metadata": {},
     "output_type": "execute_result"
    }
   ],
   "source": [
    "# Spacifying the split number of the string. Using maxsplit parameter\n",
    "y = re.split(\" \",text,maxsplit=1)\n",
    "y"
   ]
  },
  {
   "cell_type": "markdown",
   "id": "6f520476",
   "metadata": {},
   "source": [
    "# sub() method"
   ]
  },
  {
   "cell_type": "code",
   "execution_count": 7,
   "id": "b177a136",
   "metadata": {},
   "outputs": [
    {
     "data": {
      "text/plain": [
       "'The9Rain9in9Spain'"
      ]
     },
     "execution_count": 7,
     "metadata": {},
     "output_type": "execute_result"
    }
   ],
   "source": [
    "# Replace 9 in the matched(white-space) position\n",
    "x = re.sub(\"\\s\",\"9\",text)\n",
    "x"
   ]
  },
  {
   "cell_type": "code",
   "execution_count": 8,
   "id": "8a5977a5",
   "metadata": {},
   "outputs": [
    {
     "data": {
      "text/plain": [
       "'The9Rain9in Spain'"
      ]
     },
     "execution_count": 8,
     "metadata": {},
     "output_type": "execute_result"
    }
   ],
   "source": [
    "# Controling replacement number using count parameter\n",
    "y = re.sub(\" \",\"9\",text,count=2)\n",
    "y"
   ]
  },
  {
   "cell_type": "markdown",
   "id": "54b98741",
   "metadata": {},
   "source": [
    "# search() method"
   ]
  },
  {
   "cell_type": "code",
   "execution_count": 9,
   "id": "de7ac0cd",
   "metadata": {},
   "outputs": [
    {
     "data": {
      "text/plain": [
       "<re.Match object; span=(5, 7), match='ai'>"
      ]
     },
     "execution_count": 9,
     "metadata": {},
     "output_type": "execute_result"
    }
   ],
   "source": [
    "# Returns match object\n",
    "x = re.search(\"ai\",text)\n",
    "x"
   ]
  },
  {
   "cell_type": "code",
   "execution_count": 10,
   "id": "371ee9a5",
   "metadata": {},
   "outputs": [
    {
     "name": "stdout",
     "output_type": "stream",
     "text": [
      "Yes! We have a match.\n"
     ]
    }
   ],
   "source": [
    "y = re.search(\"^The.*Spain$\",text)\n",
    "if y:\n",
    "    print(\"Yes! We have a match.\")\n",
    "else:\n",
    "    print(\"No match.\")"
   ]
  },
  {
   "cell_type": "markdown",
   "id": "8a6733d5",
   "metadata": {},
   "source": [
    "**search** match object has some ***methods*** =>\n",
    "1. **start()**\n",
    "2. **end()**\n",
    "3. **span()**\n",
    "4. **group()**"
   ]
  },
  {
   "cell_type": "code",
   "execution_count": 11,
   "id": "7f9b6d75",
   "metadata": {},
   "outputs": [
    {
     "name": "stdout",
     "output_type": "stream",
     "text": [
      "The first white-space charecter is located in position: 3\n"
     ]
    }
   ],
   "source": [
    "# start() method\n",
    "x = re.search(\" \",text)\n",
    "print(\"The first white-space charecter is located in position:\",x.start())"
   ]
  },
  {
   "cell_type": "code",
   "execution_count": 12,
   "id": "15c28265",
   "metadata": {},
   "outputs": [
    {
     "name": "stdout",
     "output_type": "stream",
     "text": [
      "The last matched charecter is located in position: 17\n"
     ]
    }
   ],
   "source": [
    "# start() method\n",
    "x = re.search(r\"\\bS\\w+\",text)\n",
    "print(\"The last matched charecter is located in position:\",x.end())"
   ]
  },
  {
   "cell_type": "code",
   "execution_count": 13,
   "id": "bf3c8787",
   "metadata": {},
   "outputs": [
    {
     "name": "stdout",
     "output_type": "stream",
     "text": [
      "The first and last position of The matched charecters is: (12, 17)\n"
     ]
    }
   ],
   "source": [
    "# span() method\n",
    "x = re.search(r\"\\bS\\w+\",text)\n",
    "print(\"The first and last position of The matched charecters is:\",x.span())"
   ]
  },
  {
   "cell_type": "code",
   "execution_count": 14,
   "id": "9f319d5e",
   "metadata": {},
   "outputs": [
    {
     "name": "stdout",
     "output_type": "stream",
     "text": [
      "The matched parts is: Spain\n",
      "<class 'str'>\n"
     ]
    }
   ],
   "source": [
    "# group() method\n",
    "# return the matched parts\n",
    "x = re.search(r\"\\bS\\w+\",text)\n",
    "print(\"The matched parts is:\",x.group())\n",
    "print(type(x.group()))"
   ]
  },
  {
   "cell_type": "code",
   "execution_count": 15,
   "id": "297c0200",
   "metadata": {},
   "outputs": [
    {
     "name": "stdout",
     "output_type": "stream",
     "text": [
      "The Rain in Spain\n",
      "<class 'str'>\n"
     ]
    }
   ],
   "source": [
    "# string\n",
    "# Return the passing string\n",
    "x = re.search(r\"\\bS\\w+\",text)\n",
    "print(x.string)\n",
    "print(type(x.string))"
   ]
  },
  {
   "cell_type": "code",
   "execution_count": null,
   "id": "6890170e",
   "metadata": {},
   "outputs": [],
   "source": []
  }
 ],
 "metadata": {
  "kernelspec": {
   "display_name": "Python 3 (ipykernel)",
   "language": "python",
   "name": "python3"
  },
  "language_info": {
   "codemirror_mode": {
    "name": "ipython",
    "version": 3
   },
   "file_extension": ".py",
   "mimetype": "text/x-python",
   "name": "python",
   "nbconvert_exporter": "python",
   "pygments_lexer": "ipython3",
   "version": "3.7.13"
  }
 },
 "nbformat": 4,
 "nbformat_minor": 5
}
