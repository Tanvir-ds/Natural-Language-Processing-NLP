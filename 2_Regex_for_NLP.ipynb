{
 "cells": [
  {
   "cell_type": "code",
   "execution_count": 1,
   "id": "0ce5b44c",
   "metadata": {},
   "outputs": [],
   "source": [
    "import re"
   ]
  },
  {
   "cell_type": "markdown",
   "id": "3b0e7842",
   "metadata": {},
   "source": [
    "# Retriving Phone Number and Email Address"
   ]
  },
  {
   "cell_type": "code",
   "execution_count": 2,
   "id": "e0b46b2c",
   "metadata": {},
   "outputs": [],
   "source": [
    "chat1 = \"Tanvir: you ask lot of question. 1523752172, xyz@abc.com, 7563284952\"\n",
    "chat2 = \"Tanvir: here it is: (123)-542-6788, xyz_AG@gab.com.\"\n",
    "chat3 = \"Tanvir: yes, phone: 6793571804,email: abc@xyz.io\""
   ]
  },
  {
   "cell_type": "code",
   "execution_count": 3,
   "id": "bfda209a",
   "metadata": {},
   "outputs": [
    {
     "data": {
      "text/plain": [
       "['1523752172', '7563284952']"
      ]
     },
     "execution_count": 3,
     "metadata": {},
     "output_type": "execute_result"
    }
   ],
   "source": [
    "# Retriving number from \"chat1\" variables\n",
    "patterns = \"\\d{10}\"\n",
    "matches = re.findall(patterns,chat1)\n",
    "matches"
   ]
  },
  {
   "cell_type": "code",
   "execution_count": 4,
   "id": "2c2ae999",
   "metadata": {},
   "outputs": [
    {
     "data": {
      "text/plain": [
       "[]"
      ]
     },
     "execution_count": 4,
     "metadata": {},
     "output_type": "execute_result"
    }
   ],
   "source": [
    "# \"chat2\" variables\n",
    "patterns = \"\\d{10}\"\n",
    "matches = re.findall(patterns,chat2)\n",
    "matches"
   ]
  },
  {
   "cell_type": "code",
   "execution_count": 5,
   "id": "b2aae564",
   "metadata": {
    "scrolled": true
   },
   "outputs": [
    {
     "data": {
      "text/plain": [
       "['(123)-542-6788']"
      ]
     },
     "execution_count": 5,
     "metadata": {},
     "output_type": "execute_result"
    }
   ],
   "source": [
    "# Retriving number from \"chat2\" variables\n",
    "patterns = \"\\(\\d{3}\\)-\\d{3}-\\d{4}\"\n",
    "matches = re.findall(patterns,chat2)\n",
    "matches"
   ]
  },
  {
   "cell_type": "markdown",
   "id": "95d35262",
   "metadata": {},
   "source": [
    "Complete **Regex** for retriving the **Phone Number**"
   ]
  },
  {
   "cell_type": "code",
   "execution_count": 6,
   "id": "715bd7b0",
   "metadata": {},
   "outputs": [],
   "source": [
    "\n",
    "patterns = \"\\d{10}|\\(\\d{3}\\)-\\d{3}-\\d{4}\""
   ]
  },
  {
   "cell_type": "code",
   "execution_count": 7,
   "id": "0ee1e6e3",
   "metadata": {},
   "outputs": [
    {
     "data": {
      "text/plain": [
       "['1523752172', '7563284952']"
      ]
     },
     "execution_count": 7,
     "metadata": {},
     "output_type": "execute_result"
    }
   ],
   "source": [
    "# Retriving phone number from \"chat1\" variables\n",
    "matches = re.findall(patterns,chat1)\n",
    "matches"
   ]
  },
  {
   "cell_type": "code",
   "execution_count": 8,
   "id": "e925459c",
   "metadata": {},
   "outputs": [
    {
     "data": {
      "text/plain": [
       "['(123)-542-6788']"
      ]
     },
     "execution_count": 8,
     "metadata": {},
     "output_type": "execute_result"
    }
   ],
   "source": [
    "# Retriving pnone number from \"chat2\" variables\n",
    "matches = re.findall(patterns,chat2)\n",
    "matches"
   ]
  },
  {
   "cell_type": "code",
   "execution_count": 9,
   "id": "c4ea5c2c",
   "metadata": {
    "scrolled": true
   },
   "outputs": [
    {
     "data": {
      "text/plain": [
       "['6793571804']"
      ]
     },
     "execution_count": 9,
     "metadata": {},
     "output_type": "execute_result"
    }
   ],
   "source": [
    "# Retriving phone number from \"chat3\" variables\n",
    "matches = re.findall(patterns,chat3)\n",
    "matches"
   ]
  },
  {
   "cell_type": "markdown",
   "id": "53840d02",
   "metadata": {},
   "source": [
    "**Regex** for retriving **Email Address**"
   ]
  },
  {
   "cell_type": "code",
   "execution_count": 10,
   "id": "7a7de4eb",
   "metadata": {},
   "outputs": [],
   "source": [
    "patterns = \"[a-z0-9A-Z_]*@[a-z0-9A-Z]*\\.[a-zA-Z]*\""
   ]
  },
  {
   "cell_type": "code",
   "execution_count": 11,
   "id": "a9c4659f",
   "metadata": {},
   "outputs": [
    {
     "data": {
      "text/plain": [
       "['xyz@abc.com']"
      ]
     },
     "execution_count": 11,
     "metadata": {},
     "output_type": "execute_result"
    }
   ],
   "source": [
    "# Retriving email address from \"chat1\" variables\n",
    "matches = re.findall(patterns,chat1)\n",
    "matches"
   ]
  },
  {
   "cell_type": "code",
   "execution_count": 12,
   "id": "3f65ddcc",
   "metadata": {},
   "outputs": [
    {
     "data": {
      "text/plain": [
       "['xyz_AG@gab.com']"
      ]
     },
     "execution_count": 12,
     "metadata": {},
     "output_type": "execute_result"
    }
   ],
   "source": [
    "# Retriving email address from \"chat2\" variables\n",
    "matches = re.findall(patterns,chat2)\n",
    "matches"
   ]
  },
  {
   "cell_type": "code",
   "execution_count": 13,
   "id": "2555e2d1",
   "metadata": {},
   "outputs": [
    {
     "data": {
      "text/plain": [
       "['abc@xyz.io']"
      ]
     },
     "execution_count": 13,
     "metadata": {},
     "output_type": "execute_result"
    }
   ],
   "source": [
    "# Retriving email address from \"chat3\" variables\n",
    "matches = re.findall(patterns,chat3)\n",
    "matches"
   ]
  },
  {
   "cell_type": "markdown",
   "id": "624d167d",
   "metadata": {},
   "source": [
    "# Retriving Order Number"
   ]
  },
  {
   "cell_type": "code",
   "execution_count": 14,
   "id": "8829ace5",
   "metadata": {},
   "outputs": [],
   "source": [
    "chat1 = \"Tanvir: I am having and issue with my order # 7563284952.\"\n",
    "chat2 = \"Tanvir: I have a problem with my order number is this one 457334.\"\n",
    "chat3 = \"Tanvir: my order 654 is having an issue. i was chaged 300$ when online it says 280$.\""
   ]
  },
  {
   "cell_type": "markdown",
   "id": "2de40fb9",
   "metadata": {},
   "source": [
    "**Regex** for retriving **Order Number**"
   ]
  },
  {
   "cell_type": "code",
   "execution_count": 15,
   "id": "da968973",
   "metadata": {},
   "outputs": [],
   "source": [
    "patterns = \"order[^\\d]*(\\d*)\""
   ]
  },
  {
   "cell_type": "code",
   "execution_count": 16,
   "id": "7bdcd400",
   "metadata": {},
   "outputs": [
    {
     "data": {
      "text/plain": [
       "['7563284952']"
      ]
     },
     "execution_count": 16,
     "metadata": {},
     "output_type": "execute_result"
    }
   ],
   "source": [
    "# Retriving order number from \"chat1\" variables\n",
    "matches = re.findall(patterns,chat1)\n",
    "matches"
   ]
  },
  {
   "cell_type": "code",
   "execution_count": 17,
   "id": "f9294149",
   "metadata": {},
   "outputs": [
    {
     "data": {
      "text/plain": [
       "['457334']"
      ]
     },
     "execution_count": 17,
     "metadata": {},
     "output_type": "execute_result"
    }
   ],
   "source": [
    "# Retriving order number from \"chat2\" variables\n",
    "matches = re.findall(patterns,chat2)\n",
    "matches"
   ]
  },
  {
   "cell_type": "code",
   "execution_count": 18,
   "id": "52738903",
   "metadata": {},
   "outputs": [
    {
     "data": {
      "text/plain": [
       "['654']"
      ]
     },
     "execution_count": 18,
     "metadata": {},
     "output_type": "execute_result"
    }
   ],
   "source": [
    "# Retriving order number from \"chat3\" variables\n",
    "matches = re.findall(patterns,chat3)\n",
    "matches"
   ]
  },
  {
   "cell_type": "markdown",
   "id": "202f84dd",
   "metadata": {},
   "source": [
    "# Retriving All Personal Information"
   ]
  },
  {
   "cell_type": "code",
   "execution_count": 19,
   "id": "079a348f",
   "metadata": {},
   "outputs": [],
   "source": [
    "text = \"\"\"\n",
    "Born:   Tanvir Ahmed Tuhin   \n",
    "March 13, 1999 (age 24)\n",
    "Bagha, Rajshahi, Bangladesh\n",
    "\"\"\""
   ]
  },
  {
   "cell_type": "code",
   "execution_count": 20,
   "id": "5822c390",
   "metadata": {},
   "outputs": [
    {
     "data": {
      "text/plain": [
       "'   Tanvir Ahmed Tuhin   '"
      ]
     },
     "execution_count": 20,
     "metadata": {},
     "output_type": "execute_result"
    }
   ],
   "source": [
    "# Retriving Name\n",
    "patterns = \"Born:(.*)\"\n",
    "matches = re.findall(patterns,text)\n",
    "matches[0]"
   ]
  },
  {
   "cell_type": "code",
   "execution_count": 21,
   "id": "809cfa09",
   "metadata": {},
   "outputs": [
    {
     "data": {
      "text/plain": [
       "'Tanvir Ahmed Tuhin'"
      ]
     },
     "execution_count": 21,
     "metadata": {},
     "output_type": "execute_result"
    }
   ],
   "source": [
    "# Removing extra strip from the data\n",
    "matches[0].strip()"
   ]
  },
  {
   "cell_type": "code",
   "execution_count": 22,
   "id": "04e42488",
   "metadata": {},
   "outputs": [
    {
     "data": {
      "text/plain": [
       "'March 13, 1999'"
      ]
     },
     "execution_count": 22,
     "metadata": {},
     "output_type": "execute_result"
    }
   ],
   "source": [
    "# Retriving Birth date\n",
    "patterns = \"Born:.*\\n(.*)\\(age\"\n",
    "matches = re.findall(patterns,text)\n",
    "matches[0].strip()"
   ]
  },
  {
   "cell_type": "code",
   "execution_count": 23,
   "id": "27b58636",
   "metadata": {},
   "outputs": [
    {
     "data": {
      "text/plain": [
       "'24'"
      ]
     },
     "execution_count": 23,
     "metadata": {},
     "output_type": "execute_result"
    }
   ],
   "source": [
    "# Retriving Age\n",
    "patterns = \"age.(\\d+)\"\n",
    "matches = re.findall(patterns,text)\n",
    "matches[0]"
   ]
  },
  {
   "cell_type": "code",
   "execution_count": 24,
   "id": "7cc0305a",
   "metadata": {},
   "outputs": [
    {
     "data": {
      "text/plain": [
       "'Bagha, Rajshahi, Bangladesh'"
      ]
     },
     "execution_count": 24,
     "metadata": {},
     "output_type": "execute_result"
    }
   ],
   "source": [
    "# Retriving Birth Place\n",
    "patterns = \"\\(age.*\\n(.*)\"\n",
    "matches = re.findall(patterns,text)\n",
    "matches[0]"
   ]
  },
  {
   "cell_type": "code",
   "execution_count": 25,
   "id": "0bb838b8",
   "metadata": {},
   "outputs": [],
   "source": [
    "# Retriving matches through function\n",
    "import re\n",
    "def get_pattern_match(pattern, text):\n",
    "    matches = re.findall(pattern, text)\n",
    "    if matches:\n",
    "        return matches[0]"
   ]
  },
  {
   "cell_type": "code",
   "execution_count": 26,
   "id": "6827a1ad",
   "metadata": {},
   "outputs": [
    {
     "data": {
      "text/plain": [
       "'24'"
      ]
     },
     "execution_count": 26,
     "metadata": {},
     "output_type": "execute_result"
    }
   ],
   "source": [
    "# Retriving age\n",
    "get_pattern_match(\"age.(\\d+)\" ,text)"
   ]
  },
  {
   "cell_type": "code",
   "execution_count": 27,
   "id": "4f30f931",
   "metadata": {},
   "outputs": [],
   "source": [
    "# Retriving all personal information throuh function\n",
    "def get_personal_info(text):\n",
    "    \n",
    "    full_name = get_pattern_match(\"Born:(.*)\" ,text)\n",
    "    birth_date = get_pattern_match(\"Born:.*\\n(.*)\\(age\" ,text)\n",
    "    age = get_pattern_match(\"age.(\\d+)\" ,text)\n",
    "    birth_place = get_pattern_match(\"\\(age.*\\n(.*)\" ,text)\n",
    "    \n",
    "    return {\n",
    "        \"full_name\" : full_name.strip(),\n",
    "        \"birth_date\" : birth_date.strip(),\n",
    "        \"age\" : int(age),\n",
    "        \"birth_place\" : birth_place.strip()\n",
    "    }"
   ]
  },
  {
   "cell_type": "code",
   "execution_count": 28,
   "id": "8016c7af",
   "metadata": {},
   "outputs": [
    {
     "data": {
      "text/plain": [
       "{'full_name': 'Tanvir Ahmed Tuhin',\n",
       " 'birth_date': 'March 13, 1999',\n",
       " 'age': 24,\n",
       " 'birth_place': 'Bagha, Rajshahi, Bangladesh'}"
      ]
     },
     "execution_count": 28,
     "metadata": {},
     "output_type": "execute_result"
    }
   ],
   "source": [
    "get_personal_info(text)"
   ]
  },
  {
   "cell_type": "code",
   "execution_count": null,
   "id": "81d99d51",
   "metadata": {},
   "outputs": [],
   "source": []
  }
 ],
 "metadata": {
  "kernelspec": {
   "display_name": "Python 3 (ipykernel)",
   "language": "python",
   "name": "python3"
  },
  "language_info": {
   "codemirror_mode": {
    "name": "ipython",
    "version": 3
   },
   "file_extension": ".py",
   "mimetype": "text/x-python",
   "name": "python",
   "nbconvert_exporter": "python",
   "pygments_lexer": "ipython3",
   "version": "3.7.13"
  }
 },
 "nbformat": 4,
 "nbformat_minor": 5
}
